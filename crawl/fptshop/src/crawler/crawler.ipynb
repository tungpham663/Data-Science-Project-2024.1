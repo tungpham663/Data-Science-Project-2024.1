{
 "cells": [
  {
   "metadata": {
    "ExecuteTime": {
     "end_time": "2024-12-04T13:28:06.499247Z",
     "start_time": "2024-12-04T13:28:06.484665Z"
    }
   },
   "cell_type": "code",
   "source": [
    "import pandas as pd\n",
    "from bs4 import BeautifulSoup"
   ],
   "id": "419c28d0893f8fa4",
   "outputs": [],
   "execution_count": 44
  },
  {
   "metadata": {
    "ExecuteTime": {
     "end_time": "2024-12-04T15:30:17.227446Z",
     "start_time": "2024-12-04T15:30:15.494370Z"
    }
   },
   "cell_type": "code",
   "source": [
    "path = \"../../data/laptop_html/dell+12.html\"\n",
    "with open(path, \"r\",encoding=\"utf-8\") as f:\n",
    "    html = BeautifulSoup(f, \"html.parser\")\n",
    "boxs = html.find_all(\"div\", class_=\"flex gap-2 border-b border-dashed border-b-iconDividerOnWhite py-1.5\")\n",
    "for box in boxs:\n",
    "    print(box.prettify())\n",
    "    break"
   ],
   "id": "7f561beb792bb60a",
   "outputs": [],
   "execution_count": 58
  },
  {
   "metadata": {},
   "cell_type": "code",
   "outputs": [],
   "execution_count": null,
   "source": "",
   "id": "a8d47c8976900361"
  }
 ],
 "metadata": {
  "kernelspec": {
   "display_name": "Python 3",
   "language": "python",
   "name": "python3"
  },
  "language_info": {
   "codemirror_mode": {
    "name": "ipython",
    "version": 2
   },
   "file_extension": ".py",
   "mimetype": "text/x-python",
   "name": "python",
   "nbconvert_exporter": "python",
   "pygments_lexer": "ipython2",
   "version": "2.7.6"
  }
 },
 "nbformat": 4,
 "nbformat_minor": 5
}
