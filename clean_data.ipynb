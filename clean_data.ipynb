{
 "cells": [
  {
   "cell_type": "code",
   "execution_count": 53,
   "metadata": {},
   "outputs": [],
   "source": [
    "import pandas as pd\n",
    "import numpy as np\n",
    "import re"
   ]
  },
  {
   "cell_type": "code",
   "execution_count": 54,
   "metadata": {},
   "outputs": [],
   "source": [
    "office_ltworld = pd.read_csv('data/laptopworld_office_laptop.csv')\n",
    "gaming_ltworld = pd.read_csv('data/laptopworld_game_graphic_laptop.csv')"
   ]
  },
  {
   "cell_type": "code",
   "execution_count": 55,
   "metadata": {},
   "outputs": [
    {
     "data": {
      "text/html": [
       "<div>\n",
       "<style scoped>\n",
       "    .dataframe tbody tr th:only-of-type {\n",
       "        vertical-align: middle;\n",
       "    }\n",
       "\n",
       "    .dataframe tbody tr th {\n",
       "        vertical-align: top;\n",
       "    }\n",
       "\n",
       "    .dataframe thead th {\n",
       "        text-align: right;\n",
       "    }\n",
       "</style>\n",
       "<table border=\"1\" class=\"dataframe\">\n",
       "  <thead>\n",
       "    <tr style=\"text-align: right;\">\n",
       "      <th></th>\n",
       "      <th>battery</th>\n",
       "      <th>bus</th>\n",
       "      <th>cpu_brand_modifier</th>\n",
       "      <th>cpu_generation</th>\n",
       "      <th>cpu_manufacturer</th>\n",
       "      <th>cpu_speed</th>\n",
       "      <th>gpu_manufacturer</th>\n",
       "      <th>manufacturer</th>\n",
       "      <th>price</th>\n",
       "      <th>ram</th>\n",
       "      <th>ram_type</th>\n",
       "      <th>screen_resolution</th>\n",
       "      <th>screen_size</th>\n",
       "      <th>storage</th>\n",
       "      <th>weight</th>\n",
       "    </tr>\n",
       "  </thead>\n",
       "  <tbody>\n",
       "    <tr>\n",
       "      <th>0</th>\n",
       "      <td>75WHrs,</td>\n",
       "      <td>7467MHz</td>\n",
       "      <td>Ultra5</td>\n",
       "      <td>125H</td>\n",
       "      <td>Intel</td>\n",
       "      <td>4.50GHz,</td>\n",
       "      <td>Intel®</td>\n",
       "      <td>Asus</td>\n",
       "      <td>26.990.000</td>\n",
       "      <td>16GB</td>\n",
       "      <td>LPDDR5X</td>\n",
       "      <td>2880 x 1800</td>\n",
       "      <td>14.0</td>\n",
       "      <td>512GB</td>\n",
       "      <td>1.30 kg</td>\n",
       "    </tr>\n",
       "    <tr>\n",
       "      <th>1</th>\n",
       "      <td>59Wh</td>\n",
       "      <td>6400MHz</td>\n",
       "      <td>5</td>\n",
       "      <td>8640HS</td>\n",
       "      <td>AMD</td>\n",
       "      <td>4.90GHz,</td>\n",
       "      <td>AMD</td>\n",
       "      <td>HP</td>\n",
       "      <td>28.990.000</td>\n",
       "      <td>16GB</td>\n",
       "      <td>LPDDR5</td>\n",
       "      <td>2880 x 1800</td>\n",
       "      <td>14</td>\n",
       "      <td>512GB</td>\n",
       "      <td>Đèn nền bàn phím</td>\n",
       "    </tr>\n",
       "    <tr>\n",
       "      <th>2</th>\n",
       "      <td>70WHrs</td>\n",
       "      <td>8533MHz</td>\n",
       "      <td>Ultra7</td>\n",
       "      <td>258V</td>\n",
       "      <td>Intel</td>\n",
       "      <td>4.80GHz,</td>\n",
       "      <td>Intel®</td>\n",
       "      <td>Lenovo</td>\n",
       "      <td>42.990.000</td>\n",
       "      <td>32GB</td>\n",
       "      <td>LPDDR5x</td>\n",
       "      <td>WQXGA+, 2880x1800</td>\n",
       "      <td>15.3</td>\n",
       "      <td>1TB</td>\n",
       "      <td>1.53 kg</td>\n",
       "    </tr>\n",
       "    <tr>\n",
       "      <th>3</th>\n",
       "      <td>59Wh</td>\n",
       "      <td>6400MHz</td>\n",
       "      <td>Ultra7</td>\n",
       "      <td>155U</td>\n",
       "      <td>Intel</td>\n",
       "      <td>4.80GHz,</td>\n",
       "      <td>Intel®</td>\n",
       "      <td>HP</td>\n",
       "      <td>35.290.000</td>\n",
       "      <td>32GB</td>\n",
       "      <td>LPDDR5</td>\n",
       "      <td>2880 x 1800</td>\n",
       "      <td>14</td>\n",
       "      <td>512GB</td>\n",
       "      <td>Đèn nền bàn phím</td>\n",
       "    </tr>\n",
       "    <tr>\n",
       "      <th>4</th>\n",
       "      <td>41WHrs</td>\n",
       "      <td>3200MHz</td>\n",
       "      <td>7-150U</td>\n",
       "      <td>150U</td>\n",
       "      <td>Intel</td>\n",
       "      <td>5.40GHz,</td>\n",
       "      <td>Intel</td>\n",
       "      <td>HP</td>\n",
       "      <td>22.990.000</td>\n",
       "      <td>16GB</td>\n",
       "      <td>DDR4</td>\n",
       "      <td>1920 x 1080</td>\n",
       "      <td>14</td>\n",
       "      <td>512GB</td>\n",
       "      <td>1.4 kg</td>\n",
       "    </tr>\n",
       "  </tbody>\n",
       "</table>\n",
       "</div>"
      ],
      "text/plain": [
       "   battery      bus cpu_brand_modifier cpu_generation cpu_manufacturer  \\\n",
       "0  75WHrs,  7467MHz             Ultra5           125H            Intel   \n",
       "1     59Wh  6400MHz                  5         8640HS              AMD   \n",
       "2   70WHrs  8533MHz             Ultra7           258V            Intel   \n",
       "3     59Wh  6400MHz             Ultra7           155U            Intel   \n",
       "4   41WHrs  3200MHz             7-150U           150U            Intel   \n",
       "\n",
       "  cpu_speed gpu_manufacturer manufacturer       price   ram ram_type  \\\n",
       "0  4.50GHz,           Intel®         Asus  26.990.000  16GB  LPDDR5X   \n",
       "1  4.90GHz,              AMD           HP  28.990.000  16GB   LPDDR5   \n",
       "2  4.80GHz,           Intel®       Lenovo  42.990.000  32GB  LPDDR5x   \n",
       "3  4.80GHz,           Intel®           HP  35.290.000  32GB   LPDDR5   \n",
       "4  5.40GHz,            Intel           HP  22.990.000  16GB     DDR4   \n",
       "\n",
       "   screen_resolution screen_size storage            weight  \n",
       "0        2880 x 1800        14.0   512GB           1.30 kg  \n",
       "1        2880 x 1800          14   512GB  Đèn nền bàn phím  \n",
       "2  WQXGA+, 2880x1800        15.3     1TB           1.53 kg  \n",
       "3        2880 x 1800          14   512GB  Đèn nền bàn phím  \n",
       "4        1920 x 1080          14   512GB            1.4 kg  "
      ]
     },
     "execution_count": 55,
     "metadata": {},
     "output_type": "execute_result"
    }
   ],
   "source": [
    "office_ltworld.head()"
   ]
  },
  {
   "cell_type": "code",
   "execution_count": 56,
   "metadata": {},
   "outputs": [
    {
     "data": {
      "text/html": [
       "<div>\n",
       "<style scoped>\n",
       "    .dataframe tbody tr th:only-of-type {\n",
       "        vertical-align: middle;\n",
       "    }\n",
       "\n",
       "    .dataframe tbody tr th {\n",
       "        vertical-align: top;\n",
       "    }\n",
       "\n",
       "    .dataframe thead th {\n",
       "        text-align: right;\n",
       "    }\n",
       "</style>\n",
       "<table border=\"1\" class=\"dataframe\">\n",
       "  <thead>\n",
       "    <tr style=\"text-align: right;\">\n",
       "      <th></th>\n",
       "      <th>battery</th>\n",
       "      <th>bus</th>\n",
       "      <th>cpu_brand_modifier</th>\n",
       "      <th>cpu_generation</th>\n",
       "      <th>cpu_manufacturer</th>\n",
       "      <th>cpu_speed</th>\n",
       "      <th>gpu_manufacturer</th>\n",
       "      <th>manufacturer</th>\n",
       "      <th>price</th>\n",
       "      <th>ram</th>\n",
       "      <th>ram_type</th>\n",
       "      <th>screen_resolution</th>\n",
       "      <th>screen_size</th>\n",
       "      <th>storage</th>\n",
       "      <th>weight</th>\n",
       "    </tr>\n",
       "  </thead>\n",
       "  <tbody>\n",
       "    <tr>\n",
       "      <th>0</th>\n",
       "      <td>73WHrs,</td>\n",
       "      <td>6400MHz</td>\n",
       "      <td>9</td>\n",
       "      <td>8945HS</td>\n",
       "      <td>AMD</td>\n",
       "      <td>5.20GHz,</td>\n",
       "      <td>NVIDIA</td>\n",
       "      <td>Asus</td>\n",
       "      <td>45.990.000</td>\n",
       "      <td>16GB</td>\n",
       "      <td>LPDDR5X</td>\n",
       "      <td>2880 x 1800</td>\n",
       "      <td>14.0</td>\n",
       "      <td>1TB</td>\n",
       "      <td>1.50 Kg</td>\n",
       "    </tr>\n",
       "    <tr>\n",
       "      <th>1</th>\n",
       "      <td>73WHrs,</td>\n",
       "      <td>6400MHz</td>\n",
       "      <td>9</td>\n",
       "      <td>8945HS</td>\n",
       "      <td>AMD</td>\n",
       "      <td>5.20GHz,</td>\n",
       "      <td>NVIDIA</td>\n",
       "      <td>Asus</td>\n",
       "      <td>50.990.000</td>\n",
       "      <td>32GB</td>\n",
       "      <td>LPDDR5X</td>\n",
       "      <td>2880 x 1800</td>\n",
       "      <td>14.0</td>\n",
       "      <td>1TB</td>\n",
       "      <td>1.50 Kg</td>\n",
       "    </tr>\n",
       "    <tr>\n",
       "      <th>2</th>\n",
       "      <td>64Wh</td>\n",
       "      <td>4800MHz</td>\n",
       "      <td>i9</td>\n",
       "      <td>13900H</td>\n",
       "      <td>Intel</td>\n",
       "      <td>5.40GHz,</td>\n",
       "      <td>NVIDIA</td>\n",
       "      <td>Dell</td>\n",
       "      <td>60.990.000</td>\n",
       "      <td>16GB(1x16GB)</td>\n",
       "      <td>DDR5</td>\n",
       "      <td>1920 x 1080</td>\n",
       "      <td>15.6</td>\n",
       "      <td>512GB</td>\n",
       "      <td>1.79 kg</td>\n",
       "    </tr>\n",
       "    <tr>\n",
       "      <th>3</th>\n",
       "      <td>80Wh</td>\n",
       "      <td>4800MHz</td>\n",
       "      <td>i7</td>\n",
       "      <td>13620H</td>\n",
       "      <td>Intel</td>\n",
       "      <td>4.90GHz,</td>\n",
       "      <td>NVIDIA®</td>\n",
       "      <td>Dell</td>\n",
       "      <td>36.990.000</td>\n",
       "      <td>16GB</td>\n",
       "      <td>LPDDR5</td>\n",
       "      <td>2560x1600</td>\n",
       "      <td>14</td>\n",
       "      <td>512GB</td>\n",
       "      <td>1.91 kg</td>\n",
       "    </tr>\n",
       "    <tr>\n",
       "      <th>4</th>\n",
       "      <td>50WHrs,</td>\n",
       "      <td>3200MHz</td>\n",
       "      <td>i5</td>\n",
       "      <td>12500H</td>\n",
       "      <td>Intel</td>\n",
       "      <td>4.50GHz,</td>\n",
       "      <td>NVIDIA®</td>\n",
       "      <td>ASUS</td>\n",
       "      <td>20.990.000</td>\n",
       "      <td>16GB</td>\n",
       "      <td>DDR4</td>\n",
       "      <td>1920x1200</td>\n",
       "      <td>16</td>\n",
       "      <td>512GB</td>\n",
       "      <td>Indie Black (Đen)</td>\n",
       "    </tr>\n",
       "  </tbody>\n",
       "</table>\n",
       "</div>"
      ],
      "text/plain": [
       "   battery      bus cpu_brand_modifier cpu_generation cpu_manufacturer  \\\n",
       "0  73WHrs,  6400MHz                  9         8945HS              AMD   \n",
       "1  73WHrs,  6400MHz                  9         8945HS              AMD   \n",
       "2     64Wh  4800MHz                 i9         13900H            Intel   \n",
       "3     80Wh  4800MHz                 i7         13620H            Intel   \n",
       "4  50WHrs,  3200MHz                 i5         12500H            Intel   \n",
       "\n",
       "  cpu_speed gpu_manufacturer manufacturer       price           ram ram_type  \\\n",
       "0  5.20GHz,           NVIDIA         Asus  45.990.000          16GB  LPDDR5X   \n",
       "1  5.20GHz,           NVIDIA         Asus  50.990.000          32GB  LPDDR5X   \n",
       "2  5.40GHz,           NVIDIA         Dell  60.990.000  16GB(1x16GB)     DDR5   \n",
       "3  4.90GHz,          NVIDIA®         Dell  36.990.000          16GB   LPDDR5   \n",
       "4  4.50GHz,          NVIDIA®         ASUS  20.990.000          16GB     DDR4   \n",
       "\n",
       "  screen_resolution screen_size storage             weight  \n",
       "0       2880 x 1800        14.0     1TB            1.50 Kg  \n",
       "1       2880 x 1800        14.0     1TB            1.50 Kg  \n",
       "2       1920 x 1080        15.6   512GB            1.79 kg  \n",
       "3         2560x1600          14   512GB            1.91 kg  \n",
       "4         1920x1200          16   512GB  Indie Black (Đen)  "
      ]
     },
     "execution_count": 56,
     "metadata": {},
     "output_type": "execute_result"
    }
   ],
   "source": [
    "gaming_ltworld.head()"
   ]
  },
  {
   "cell_type": "code",
   "execution_count": 57,
   "metadata": {},
   "outputs": [
    {
     "data": {
      "text/html": [
       "<div>\n",
       "<style scoped>\n",
       "    .dataframe tbody tr th:only-of-type {\n",
       "        vertical-align: middle;\n",
       "    }\n",
       "\n",
       "    .dataframe tbody tr th {\n",
       "        vertical-align: top;\n",
       "    }\n",
       "\n",
       "    .dataframe thead th {\n",
       "        text-align: right;\n",
       "    }\n",
       "</style>\n",
       "<table border=\"1\" class=\"dataframe\">\n",
       "  <thead>\n",
       "    <tr style=\"text-align: right;\">\n",
       "      <th></th>\n",
       "      <th>battery</th>\n",
       "      <th>bus</th>\n",
       "      <th>cpu_brand_modifier</th>\n",
       "      <th>cpu_generation</th>\n",
       "      <th>cpu_manufacturer</th>\n",
       "      <th>cpu_speed</th>\n",
       "      <th>gpu_manufacturer</th>\n",
       "      <th>manufacturer</th>\n",
       "      <th>price</th>\n",
       "      <th>ram</th>\n",
       "      <th>ram_type</th>\n",
       "      <th>screen_resolution</th>\n",
       "      <th>screen_size</th>\n",
       "      <th>storage</th>\n",
       "      <th>weight</th>\n",
       "    </tr>\n",
       "  </thead>\n",
       "  <tbody>\n",
       "    <tr>\n",
       "      <th>0</th>\n",
       "      <td>75WHrs,</td>\n",
       "      <td>7467MHz</td>\n",
       "      <td>Ultra5</td>\n",
       "      <td>125H</td>\n",
       "      <td>Intel</td>\n",
       "      <td>4.50GHz,</td>\n",
       "      <td>Intel®</td>\n",
       "      <td>Asus</td>\n",
       "      <td>26.990.000</td>\n",
       "      <td>16GB</td>\n",
       "      <td>LPDDR5X</td>\n",
       "      <td>2880 x 1800</td>\n",
       "      <td>14.0</td>\n",
       "      <td>512GB</td>\n",
       "      <td>1.30 kg</td>\n",
       "    </tr>\n",
       "    <tr>\n",
       "      <th>1</th>\n",
       "      <td>59Wh</td>\n",
       "      <td>6400MHz</td>\n",
       "      <td>5</td>\n",
       "      <td>8640HS</td>\n",
       "      <td>AMD</td>\n",
       "      <td>4.90GHz,</td>\n",
       "      <td>AMD</td>\n",
       "      <td>HP</td>\n",
       "      <td>28.990.000</td>\n",
       "      <td>16GB</td>\n",
       "      <td>LPDDR5</td>\n",
       "      <td>2880 x 1800</td>\n",
       "      <td>14</td>\n",
       "      <td>512GB</td>\n",
       "      <td>Đèn nền bàn phím</td>\n",
       "    </tr>\n",
       "    <tr>\n",
       "      <th>2</th>\n",
       "      <td>70WHrs</td>\n",
       "      <td>8533MHz</td>\n",
       "      <td>Ultra7</td>\n",
       "      <td>258V</td>\n",
       "      <td>Intel</td>\n",
       "      <td>4.80GHz,</td>\n",
       "      <td>Intel®</td>\n",
       "      <td>Lenovo</td>\n",
       "      <td>42.990.000</td>\n",
       "      <td>32GB</td>\n",
       "      <td>LPDDR5x</td>\n",
       "      <td>WQXGA+, 2880x1800</td>\n",
       "      <td>15.3</td>\n",
       "      <td>1TB</td>\n",
       "      <td>1.53 kg</td>\n",
       "    </tr>\n",
       "    <tr>\n",
       "      <th>3</th>\n",
       "      <td>59Wh</td>\n",
       "      <td>6400MHz</td>\n",
       "      <td>Ultra7</td>\n",
       "      <td>155U</td>\n",
       "      <td>Intel</td>\n",
       "      <td>4.80GHz,</td>\n",
       "      <td>Intel®</td>\n",
       "      <td>HP</td>\n",
       "      <td>35.290.000</td>\n",
       "      <td>32GB</td>\n",
       "      <td>LPDDR5</td>\n",
       "      <td>2880 x 1800</td>\n",
       "      <td>14</td>\n",
       "      <td>512GB</td>\n",
       "      <td>Đèn nền bàn phím</td>\n",
       "    </tr>\n",
       "    <tr>\n",
       "      <th>4</th>\n",
       "      <td>41WHrs</td>\n",
       "      <td>3200MHz</td>\n",
       "      <td>7-150U</td>\n",
       "      <td>150U</td>\n",
       "      <td>Intel</td>\n",
       "      <td>5.40GHz,</td>\n",
       "      <td>Intel</td>\n",
       "      <td>HP</td>\n",
       "      <td>22.990.000</td>\n",
       "      <td>16GB</td>\n",
       "      <td>DDR4</td>\n",
       "      <td>1920 x 1080</td>\n",
       "      <td>14</td>\n",
       "      <td>512GB</td>\n",
       "      <td>1.4 kg</td>\n",
       "    </tr>\n",
       "  </tbody>\n",
       "</table>\n",
       "</div>"
      ],
      "text/plain": [
       "   battery      bus cpu_brand_modifier cpu_generation cpu_manufacturer  \\\n",
       "0  75WHrs,  7467MHz             Ultra5           125H            Intel   \n",
       "1     59Wh  6400MHz                  5         8640HS              AMD   \n",
       "2   70WHrs  8533MHz             Ultra7           258V            Intel   \n",
       "3     59Wh  6400MHz             Ultra7           155U            Intel   \n",
       "4   41WHrs  3200MHz             7-150U           150U            Intel   \n",
       "\n",
       "  cpu_speed gpu_manufacturer manufacturer       price   ram ram_type  \\\n",
       "0  4.50GHz,           Intel®         Asus  26.990.000  16GB  LPDDR5X   \n",
       "1  4.90GHz,              AMD           HP  28.990.000  16GB   LPDDR5   \n",
       "2  4.80GHz,           Intel®       Lenovo  42.990.000  32GB  LPDDR5x   \n",
       "3  4.80GHz,           Intel®           HP  35.290.000  32GB   LPDDR5   \n",
       "4  5.40GHz,            Intel           HP  22.990.000  16GB     DDR4   \n",
       "\n",
       "   screen_resolution screen_size storage            weight  \n",
       "0        2880 x 1800        14.0   512GB           1.30 kg  \n",
       "1        2880 x 1800          14   512GB  Đèn nền bàn phím  \n",
       "2  WQXGA+, 2880x1800        15.3     1TB           1.53 kg  \n",
       "3        2880 x 1800          14   512GB  Đèn nền bàn phím  \n",
       "4        1920 x 1080          14   512GB            1.4 kg  "
      ]
     },
     "execution_count": 57,
     "metadata": {},
     "output_type": "execute_result"
    }
   ],
   "source": [
    "ltworld_data = pd.concat([office_ltworld, gaming_ltworld], ignore_index=True)\n",
    "ltworld_data.head()"
   ]
  },
  {
   "cell_type": "code",
   "execution_count": 58,
   "metadata": {},
   "outputs": [],
   "source": [
    "ltworld_data=ltworld_data.rename(columns={'battery': 'Battery (WHrs)', \n",
    "                                          'bus': 'Bus (MHz)',\n",
    "                                          'cpu_brand_modifier': 'CPU Brand Modifier',\n",
    "                                          'cpu_generation': 'CPU Generation',\n",
    "                                          'cpu_manufacturer': 'CPU Manufacturer',\n",
    "                                          'cpu_speed': 'CPU Speed (GHz)',\n",
    "                                          'gpu_manufacturer': 'GPU Manufacturer',\n",
    "                                          'manufacturer': 'Manufacturer',\n",
    "                                          'price': 'Price',\n",
    "                                          'ram': 'RAM',\n",
    "                                          'ram_type':'RAM Type',\n",
    "                                          'screen_resolution': 'Screen Resolution',\n",
    "                                          'screen_size': 'Screen Size (Inches)',\n",
    "                                          'storage': 'Storage (GB)',\n",
    "                                          'weight': 'Weight (kg)'\n",
    "                                          })"
   ]
  },
  {
   "cell_type": "code",
   "execution_count": 59,
   "metadata": {},
   "outputs": [
    {
     "data": {
      "text/html": [
       "<div>\n",
       "<style scoped>\n",
       "    .dataframe tbody tr th:only-of-type {\n",
       "        vertical-align: middle;\n",
       "    }\n",
       "\n",
       "    .dataframe tbody tr th {\n",
       "        vertical-align: top;\n",
       "    }\n",
       "\n",
       "    .dataframe thead th {\n",
       "        text-align: right;\n",
       "    }\n",
       "</style>\n",
       "<table border=\"1\" class=\"dataframe\">\n",
       "  <thead>\n",
       "    <tr style=\"text-align: right;\">\n",
       "      <th></th>\n",
       "      <th>Battery (WHrs)</th>\n",
       "      <th>Bus (MHz)</th>\n",
       "      <th>CPU Brand Modifier</th>\n",
       "      <th>CPU Generation</th>\n",
       "      <th>CPU Manufacturer</th>\n",
       "      <th>CPU Speed (GHz)</th>\n",
       "      <th>GPU Manufacturer</th>\n",
       "      <th>Manufacturer</th>\n",
       "      <th>Price</th>\n",
       "      <th>RAM</th>\n",
       "      <th>RAM Type</th>\n",
       "      <th>Screen Resolution</th>\n",
       "      <th>Screen Size (Inches)</th>\n",
       "      <th>Storage (GB)</th>\n",
       "      <th>Weight (kg)</th>\n",
       "    </tr>\n",
       "  </thead>\n",
       "  <tbody>\n",
       "    <tr>\n",
       "      <th>0</th>\n",
       "      <td>75WHrs,</td>\n",
       "      <td>7467MHz</td>\n",
       "      <td>Ultra5</td>\n",
       "      <td>125H</td>\n",
       "      <td>Intel</td>\n",
       "      <td>4.50GHz,</td>\n",
       "      <td>Intel®</td>\n",
       "      <td>Asus</td>\n",
       "      <td>26.990.000</td>\n",
       "      <td>16GB</td>\n",
       "      <td>LPDDR5X</td>\n",
       "      <td>2880 x 1800</td>\n",
       "      <td>14.0</td>\n",
       "      <td>512GB</td>\n",
       "      <td>1.30 kg</td>\n",
       "    </tr>\n",
       "    <tr>\n",
       "      <th>1</th>\n",
       "      <td>59Wh</td>\n",
       "      <td>6400MHz</td>\n",
       "      <td>5</td>\n",
       "      <td>8640HS</td>\n",
       "      <td>AMD</td>\n",
       "      <td>4.90GHz,</td>\n",
       "      <td>AMD</td>\n",
       "      <td>HP</td>\n",
       "      <td>28.990.000</td>\n",
       "      <td>16GB</td>\n",
       "      <td>LPDDR5</td>\n",
       "      <td>2880 x 1800</td>\n",
       "      <td>14</td>\n",
       "      <td>512GB</td>\n",
       "      <td>Đèn nền bàn phím</td>\n",
       "    </tr>\n",
       "    <tr>\n",
       "      <th>2</th>\n",
       "      <td>70WHrs</td>\n",
       "      <td>8533MHz</td>\n",
       "      <td>Ultra7</td>\n",
       "      <td>258V</td>\n",
       "      <td>Intel</td>\n",
       "      <td>4.80GHz,</td>\n",
       "      <td>Intel®</td>\n",
       "      <td>Lenovo</td>\n",
       "      <td>42.990.000</td>\n",
       "      <td>32GB</td>\n",
       "      <td>LPDDR5x</td>\n",
       "      <td>WQXGA+, 2880x1800</td>\n",
       "      <td>15.3</td>\n",
       "      <td>1TB</td>\n",
       "      <td>1.53 kg</td>\n",
       "    </tr>\n",
       "    <tr>\n",
       "      <th>3</th>\n",
       "      <td>59Wh</td>\n",
       "      <td>6400MHz</td>\n",
       "      <td>Ultra7</td>\n",
       "      <td>155U</td>\n",
       "      <td>Intel</td>\n",
       "      <td>4.80GHz,</td>\n",
       "      <td>Intel®</td>\n",
       "      <td>HP</td>\n",
       "      <td>35.290.000</td>\n",
       "      <td>32GB</td>\n",
       "      <td>LPDDR5</td>\n",
       "      <td>2880 x 1800</td>\n",
       "      <td>14</td>\n",
       "      <td>512GB</td>\n",
       "      <td>Đèn nền bàn phím</td>\n",
       "    </tr>\n",
       "    <tr>\n",
       "      <th>4</th>\n",
       "      <td>41WHrs</td>\n",
       "      <td>3200MHz</td>\n",
       "      <td>7-150U</td>\n",
       "      <td>150U</td>\n",
       "      <td>Intel</td>\n",
       "      <td>5.40GHz,</td>\n",
       "      <td>Intel</td>\n",
       "      <td>HP</td>\n",
       "      <td>22.990.000</td>\n",
       "      <td>16GB</td>\n",
       "      <td>DDR4</td>\n",
       "      <td>1920 x 1080</td>\n",
       "      <td>14</td>\n",
       "      <td>512GB</td>\n",
       "      <td>1.4 kg</td>\n",
       "    </tr>\n",
       "  </tbody>\n",
       "</table>\n",
       "</div>"
      ],
      "text/plain": [
       "  Battery (WHrs) Bus (MHz) CPU Brand Modifier CPU Generation CPU Manufacturer  \\\n",
       "0        75WHrs,   7467MHz             Ultra5           125H            Intel   \n",
       "1           59Wh   6400MHz                  5         8640HS              AMD   \n",
       "2         70WHrs   8533MHz             Ultra7           258V            Intel   \n",
       "3           59Wh   6400MHz             Ultra7           155U            Intel   \n",
       "4         41WHrs   3200MHz             7-150U           150U            Intel   \n",
       "\n",
       "  CPU Speed (GHz) GPU Manufacturer Manufacturer       Price   RAM RAM Type  \\\n",
       "0        4.50GHz,           Intel®         Asus  26.990.000  16GB  LPDDR5X   \n",
       "1        4.90GHz,              AMD           HP  28.990.000  16GB   LPDDR5   \n",
       "2        4.80GHz,           Intel®       Lenovo  42.990.000  32GB  LPDDR5x   \n",
       "3        4.80GHz,           Intel®           HP  35.290.000  32GB   LPDDR5   \n",
       "4        5.40GHz,            Intel           HP  22.990.000  16GB     DDR4   \n",
       "\n",
       "   Screen Resolution Screen Size (Inches) Storage (GB)       Weight (kg)  \n",
       "0        2880 x 1800                 14.0        512GB           1.30 kg  \n",
       "1        2880 x 1800                   14        512GB  Đèn nền bàn phím  \n",
       "2  WQXGA+, 2880x1800                 15.3          1TB           1.53 kg  \n",
       "3        2880 x 1800                   14        512GB  Đèn nền bàn phím  \n",
       "4        1920 x 1080                   14        512GB            1.4 kg  "
      ]
     },
     "execution_count": 59,
     "metadata": {},
     "output_type": "execute_result"
    }
   ],
   "source": [
    "ltworld_data.head()"
   ]
  },
  {
   "cell_type": "code",
   "execution_count": 60,
   "metadata": {},
   "outputs": [
    {
     "name": "stdout",
     "output_type": "stream",
     "text": [
      "825\n"
     ]
    }
   ],
   "source": [
    "print(len(ltworld_data))"
   ]
  },
  {
   "cell_type": "code",
   "execution_count": 61,
   "metadata": {},
   "outputs": [
    {
     "name": "stdout",
     "output_type": "stream",
     "text": [
      "['Asus' 'HP' 'Lenovo' 'Dell' 'LG' 'ASUS' 'Acer' 'MSI' 'Gigabyte']\n"
     ]
    }
   ],
   "source": [
    "manufacturer = ltworld_data['Manufacturer'].unique()\n",
    "print(manufacturer)"
   ]
  },
  {
   "cell_type": "code",
   "execution_count": 62,
   "metadata": {},
   "outputs": [
    {
     "name": "stdout",
     "output_type": "stream",
     "text": [
      "Index(['Battery (WHrs)', 'Bus (MHz)', 'CPU Brand Modifier', 'CPU Generation',\n",
      "       'CPU Manufacturer', 'CPU Speed (GHz)', 'GPU Manufacturer',\n",
      "       'Manufacturer', 'Price', 'RAM', 'RAM Type', 'Screen Resolution',\n",
      "       'Screen Size (Inches)', 'Storage (GB)', 'Weight (kg)'],\n",
      "      dtype='object')\n"
     ]
    }
   ],
   "source": [
    "print(ltworld_data.columns)"
   ]
  },
  {
   "cell_type": "code",
   "execution_count": 63,
   "metadata": {},
   "outputs": [
    {
     "data": {
      "text/plain": [
       "array(['75WHrs,', '59Wh', '70WHrs', '41WHrs', '54WHrs', '42WHrs',\n",
       "       '63WHrs', '84WHrs', '72Wh', '43Wh', '75WH', '50WHrs,', '65WHrs',\n",
       "       '3S1P,', '47Wh', '69.5Whr', '45Wh', '41Wh', '57Wh', '54Wh',\n",
       "       '63WHrs,', '65Whrs', '77Whr', '72WHrs', '54.7Wh', 'Wh', '71Wh',\n",
       "       '72Whr', '75Wh', '70Whr', '56Wh', '90Wh', '52.5Wh', 'kg',\n",
       "       '52.5WHrs', '1.46kg', '75WHrs', '68Wh', '58Whr', '58Wh', '72WHrs,',\n",
       "       '65Wh', '50WHrs', '60Whr', '58WHr', '38Wh', '47WH', '45WHr',\n",
       "       '41Whrs', '85Wh', '85WHr', '99.5Whr', '41Whr', '54', '45Whr',\n",
       "       '60WHr', '54Whr', '58WHrs', '50Wh', '60Wh', '71WHr', '51.5Wh',\n",
       "       '41WHr', '46.5Wh', '77Wh', '54Whrs', '55Whr', '75WHr', '69.5Wh',\n",
       "       '75Whr', '63Whr,', '39.3WHr', '56WHrs', '51Wh', '57WH', '42WHrs,',\n",
       "       '40WHrs', '76Wh', '42WHr', '66Whr', '39.3WHrs', '66', '56.6Wh',\n",
       "       'Blue', '66WHrs', 'Cell', '51', '3Cell', '40Wh', '45WH',\n",
       "       'backlight', '43WHrs', '80Wh', '53Wh', '55WHr', '64WHr', '51WHrs',\n",
       "       '99Whr', '68', '71WHrs', '36.7WHr', '73WHrs', '79.6Whr', '76WHrs',\n",
       "       '86Wh', '54WHr', '66Wh', '42Wh', '73WHrs,', '64Wh', '99.99WH',\n",
       "       '90WHrs,', '90WHrs', '99Wh', '48WHrs,', '70Wh', '97Wh', '59WHrs',\n",
       "       '70WHrs,', '60WH', '99.9WHrs', '76Whr', '57WHrs', '57.5', '57.5Wh',\n",
       "       '86WHrs', '99.9Wh', '80WH', 'cell,', '52.4Whrs', '53.5Whr',\n",
       "       '99.99Whr', '90Whr', '83Whr', '4Cell', '56WHrs,', '90', '63Whrs',\n",
       "       '100Wh', '65Whr', '40WHrs,', nan, '52.5Whrs'], dtype=object)"
      ]
     },
     "execution_count": 63,
     "metadata": {},
     "output_type": "execute_result"
    }
   ],
   "source": [
    "ltworld_data['Battery (WHrs)'].unique()"
   ]
  },
  {
   "cell_type": "code",
   "execution_count": 64,
   "metadata": {},
   "outputs": [
    {
     "name": "stdout",
     "output_type": "stream",
     "text": [
      "15\n"
     ]
    }
   ],
   "source": [
    "count=0\n",
    "errors=['1.46kg', 'Cell', '3Cell', 'cell,', '4Cell', 'Wh','kg']\n",
    "count = ltworld_data['Battery (WHrs)'].isin(errors).sum()\n",
    "print(count)"
   ]
  },
  {
   "cell_type": "code",
   "execution_count": 65,
   "metadata": {},
   "outputs": [
    {
     "data": {
      "text/plain": [
       "57Wh        40\n",
       "47Wh        36\n",
       "90Wh        30\n",
       "50Wh        25\n",
       "54WHrs      25\n",
       "            ..\n",
       "66Wh         1\n",
       "42Wh         1\n",
       "57WH         1\n",
       "69.5Wh       1\n",
       "52.5Whrs     1\n",
       "Name: Battery (WHrs), Length: 142, dtype: int64"
      ]
     },
     "execution_count": 65,
     "metadata": {},
     "output_type": "execute_result"
    }
   ],
   "source": [
    "ltworld_data['Battery (WHrs)'].value_counts()"
   ]
  },
  {
   "cell_type": "code",
   "execution_count": 66,
   "metadata": {},
   "outputs": [],
   "source": [
    "ltworld_data['Battery (WHrs) ']=ltworld_data['Battery (WHrs)'].replace(errors, np.nan)"
   ]
  },
  {
   "cell_type": "code",
   "execution_count": 67,
   "metadata": {},
   "outputs": [
    {
     "data": {
      "text/plain": [
       "array(['75WHrs,', '59Wh', '70WHrs', '41WHrs', '54WHrs', '42WHrs',\n",
       "       '63WHrs', '84WHrs', '72Wh', '43Wh', '75WH', '50WHrs,', '65WHrs',\n",
       "       '3S1P,', '47Wh', '69.5Whr', '45Wh', '41Wh', '57Wh', '54Wh',\n",
       "       '63WHrs,', '65Whrs', '77Whr', '72WHrs', '54.7Wh', 'Wh', '71Wh',\n",
       "       '72Whr', '75Wh', '70Whr', '56Wh', '90Wh', '52.5Wh', 'kg',\n",
       "       '52.5WHrs', '1.46kg', '75WHrs', '68Wh', '58Whr', '58Wh', '72WHrs,',\n",
       "       '65Wh', '50WHrs', '60Whr', '58WHr', '38Wh', '47WH', '45WHr',\n",
       "       '41Whrs', '85Wh', '85WHr', '99.5Whr', '41Whr', '54', '45Whr',\n",
       "       '60WHr', '54Whr', '58WHrs', '50Wh', '60Wh', '71WHr', '51.5Wh',\n",
       "       '41WHr', '46.5Wh', '77Wh', '54Whrs', '55Whr', '75WHr', '69.5Wh',\n",
       "       '75Whr', '63Whr,', '39.3WHr', '56WHrs', '51Wh', '57WH', '42WHrs,',\n",
       "       '40WHrs', '76Wh', '42WHr', '66Whr', '39.3WHrs', '66', '56.6Wh',\n",
       "       'Blue', '66WHrs', 'Cell', '51', '3Cell', '40Wh', '45WH',\n",
       "       'backlight', '43WHrs', '80Wh', '53Wh', '55WHr', '64WHr', '51WHrs',\n",
       "       '99Whr', '68', '71WHrs', '36.7WHr', '73WHrs', '79.6Whr', '76WHrs',\n",
       "       '86Wh', '54WHr', '66Wh', '42Wh', '73WHrs,', '64Wh', '99.99WH',\n",
       "       '90WHrs,', '90WHrs', '99Wh', '48WHrs,', '70Wh', '97Wh', '59WHrs',\n",
       "       '70WHrs,', '60WH', '99.9WHrs', '76Whr', '57WHrs', '57.5', '57.5Wh',\n",
       "       '86WHrs', '99.9Wh', '80WH', 'cell,', '52.4Whrs', '53.5Whr',\n",
       "       '99.99Whr', '90Whr', '83Whr', '4Cell', '56WHrs,', '90', '63Whrs',\n",
       "       '100Wh', '65Whr', '40WHrs,', nan, '52.5Whrs'], dtype=object)"
      ]
     },
     "execution_count": 67,
     "metadata": {},
     "output_type": "execute_result"
    }
   ],
   "source": [
    "ltworld_data['Battery (WHrs)'].unique()"
   ]
  },
  {
   "cell_type": "code",
   "execution_count": 68,
   "metadata": {},
   "outputs": [
    {
     "data": {
      "text/plain": [
       "array(['75', '59', '70', '41', '54', '42', '63', '84', '72', '43', '50',\n",
       "       '65', '3', '47', '69.5', '45', '57', '77', '54.7', nan, '71', '56',\n",
       "       '90', '52.5', '1.46', '68', '58', '60', '38', '85', '99.5', '51.5',\n",
       "       '46.5', '55', '39.3', '51', '40', '76', '66', '56.6', '80', '53',\n",
       "       '64', '99', '36.7', '73', '79.6', '86', '99.99', '48', '97',\n",
       "       '99.9', '57.5', '52.4', '53.5', '83', '4', '100'], dtype=object)"
      ]
     },
     "execution_count": 68,
     "metadata": {},
     "output_type": "execute_result"
    }
   ],
   "source": [
    "ltworld_data['Battery (WHrs)'] = ltworld_data['Battery (WHrs)'].str.extract('(\\d+\\.?\\d*)')\n",
    "ltworld_data['Battery (WHrs)'].unique()"
   ]
  },
  {
   "cell_type": "code",
   "execution_count": 69,
   "metadata": {},
   "outputs": [
    {
     "data": {
      "text/html": [
       "<div>\n",
       "<style scoped>\n",
       "    .dataframe tbody tr th:only-of-type {\n",
       "        vertical-align: middle;\n",
       "    }\n",
       "\n",
       "    .dataframe tbody tr th {\n",
       "        vertical-align: top;\n",
       "    }\n",
       "\n",
       "    .dataframe thead th {\n",
       "        text-align: right;\n",
       "    }\n",
       "</style>\n",
       "<table border=\"1\" class=\"dataframe\">\n",
       "  <thead>\n",
       "    <tr style=\"text-align: right;\">\n",
       "      <th></th>\n",
       "      <th>Battery (WHrs)</th>\n",
       "      <th>Bus (MHz)</th>\n",
       "      <th>CPU Brand Modifier</th>\n",
       "      <th>CPU Generation</th>\n",
       "      <th>CPU Manufacturer</th>\n",
       "      <th>CPU Speed (GHz)</th>\n",
       "      <th>GPU Manufacturer</th>\n",
       "      <th>Manufacturer</th>\n",
       "      <th>Price</th>\n",
       "      <th>RAM</th>\n",
       "      <th>RAM Type</th>\n",
       "      <th>Screen Resolution</th>\n",
       "      <th>Screen Size (Inches)</th>\n",
       "      <th>Storage (GB)</th>\n",
       "      <th>Weight (kg)</th>\n",
       "      <th>Battery (WHrs)</th>\n",
       "    </tr>\n",
       "  </thead>\n",
       "  <tbody>\n",
       "    <tr>\n",
       "      <th>0</th>\n",
       "      <td>75</td>\n",
       "      <td>7467MHz</td>\n",
       "      <td>Ultra5</td>\n",
       "      <td>125H</td>\n",
       "      <td>Intel</td>\n",
       "      <td>4.50GHz,</td>\n",
       "      <td>Intel®</td>\n",
       "      <td>Asus</td>\n",
       "      <td>26.990.000</td>\n",
       "      <td>16GB</td>\n",
       "      <td>LPDDR5X</td>\n",
       "      <td>2880 x 1800</td>\n",
       "      <td>14.0</td>\n",
       "      <td>512GB</td>\n",
       "      <td>1.30 kg</td>\n",
       "      <td>75WHrs,</td>\n",
       "    </tr>\n",
       "    <tr>\n",
       "      <th>1</th>\n",
       "      <td>59</td>\n",
       "      <td>6400MHz</td>\n",
       "      <td>5</td>\n",
       "      <td>8640HS</td>\n",
       "      <td>AMD</td>\n",
       "      <td>4.90GHz,</td>\n",
       "      <td>AMD</td>\n",
       "      <td>HP</td>\n",
       "      <td>28.990.000</td>\n",
       "      <td>16GB</td>\n",
       "      <td>LPDDR5</td>\n",
       "      <td>2880 x 1800</td>\n",
       "      <td>14</td>\n",
       "      <td>512GB</td>\n",
       "      <td>Đèn nền bàn phím</td>\n",
       "      <td>59Wh</td>\n",
       "    </tr>\n",
       "    <tr>\n",
       "      <th>2</th>\n",
       "      <td>70</td>\n",
       "      <td>8533MHz</td>\n",
       "      <td>Ultra7</td>\n",
       "      <td>258V</td>\n",
       "      <td>Intel</td>\n",
       "      <td>4.80GHz,</td>\n",
       "      <td>Intel®</td>\n",
       "      <td>Lenovo</td>\n",
       "      <td>42.990.000</td>\n",
       "      <td>32GB</td>\n",
       "      <td>LPDDR5x</td>\n",
       "      <td>WQXGA+, 2880x1800</td>\n",
       "      <td>15.3</td>\n",
       "      <td>1TB</td>\n",
       "      <td>1.53 kg</td>\n",
       "      <td>70WHrs</td>\n",
       "    </tr>\n",
       "    <tr>\n",
       "      <th>3</th>\n",
       "      <td>59</td>\n",
       "      <td>6400MHz</td>\n",
       "      <td>Ultra7</td>\n",
       "      <td>155U</td>\n",
       "      <td>Intel</td>\n",
       "      <td>4.80GHz,</td>\n",
       "      <td>Intel®</td>\n",
       "      <td>HP</td>\n",
       "      <td>35.290.000</td>\n",
       "      <td>32GB</td>\n",
       "      <td>LPDDR5</td>\n",
       "      <td>2880 x 1800</td>\n",
       "      <td>14</td>\n",
       "      <td>512GB</td>\n",
       "      <td>Đèn nền bàn phím</td>\n",
       "      <td>59Wh</td>\n",
       "    </tr>\n",
       "    <tr>\n",
       "      <th>4</th>\n",
       "      <td>41</td>\n",
       "      <td>3200MHz</td>\n",
       "      <td>7-150U</td>\n",
       "      <td>150U</td>\n",
       "      <td>Intel</td>\n",
       "      <td>5.40GHz,</td>\n",
       "      <td>Intel</td>\n",
       "      <td>HP</td>\n",
       "      <td>22.990.000</td>\n",
       "      <td>16GB</td>\n",
       "      <td>DDR4</td>\n",
       "      <td>1920 x 1080</td>\n",
       "      <td>14</td>\n",
       "      <td>512GB</td>\n",
       "      <td>1.4 kg</td>\n",
       "      <td>41WHrs</td>\n",
       "    </tr>\n",
       "  </tbody>\n",
       "</table>\n",
       "</div>"
      ],
      "text/plain": [
       "  Battery (WHrs) Bus (MHz) CPU Brand Modifier CPU Generation CPU Manufacturer  \\\n",
       "0             75   7467MHz             Ultra5           125H            Intel   \n",
       "1             59   6400MHz                  5         8640HS              AMD   \n",
       "2             70   8533MHz             Ultra7           258V            Intel   \n",
       "3             59   6400MHz             Ultra7           155U            Intel   \n",
       "4             41   3200MHz             7-150U           150U            Intel   \n",
       "\n",
       "  CPU Speed (GHz) GPU Manufacturer Manufacturer       Price   RAM RAM Type  \\\n",
       "0        4.50GHz,           Intel®         Asus  26.990.000  16GB  LPDDR5X   \n",
       "1        4.90GHz,              AMD           HP  28.990.000  16GB   LPDDR5   \n",
       "2        4.80GHz,           Intel®       Lenovo  42.990.000  32GB  LPDDR5x   \n",
       "3        4.80GHz,           Intel®           HP  35.290.000  32GB   LPDDR5   \n",
       "4        5.40GHz,            Intel           HP  22.990.000  16GB     DDR4   \n",
       "\n",
       "   Screen Resolution Screen Size (Inches) Storage (GB)       Weight (kg)  \\\n",
       "0        2880 x 1800                 14.0        512GB           1.30 kg   \n",
       "1        2880 x 1800                   14        512GB  Đèn nền bàn phím   \n",
       "2  WQXGA+, 2880x1800                 15.3          1TB           1.53 kg   \n",
       "3        2880 x 1800                   14        512GB  Đèn nền bàn phím   \n",
       "4        1920 x 1080                   14        512GB            1.4 kg   \n",
       "\n",
       "  Battery (WHrs)   \n",
       "0         75WHrs,  \n",
       "1            59Wh  \n",
       "2          70WHrs  \n",
       "3            59Wh  \n",
       "4          41WHrs  "
      ]
     },
     "execution_count": 69,
     "metadata": {},
     "output_type": "execute_result"
    }
   ],
   "source": [
    "ltworld_data.head()"
   ]
  },
  {
   "cell_type": "code",
   "execution_count": 70,
   "metadata": {},
   "outputs": [
    {
     "data": {
      "text/plain": [
       "array(['7467', '6400', '8533', '3200', '5600', nan, '5200', '7500',\n",
       "       '8448', '4800', '2666', '4266', '7647', '5500', '4267', '6000',\n",
       "       '4400'], dtype=object)"
      ]
     },
     "execution_count": 70,
     "metadata": {},
     "output_type": "execute_result"
    }
   ],
   "source": [
    "ltworld_data['Bus (MHz)']=ltworld_data['Bus (MHz)'].str.extract('(\\d+)')\n",
    "ltworld_data['Bus (MHz)'].unique()"
   ]
  },
  {
   "cell_type": "code",
   "execution_count": 71,
   "metadata": {},
   "outputs": [
    {
     "data": {
      "text/plain": [
       "array(['Intel', 'AMD', 'Snapdragon'], dtype=object)"
      ]
     },
     "execution_count": 71,
     "metadata": {},
     "output_type": "execute_result"
    }
   ],
   "source": [
    "ltworld_data['CPU Manufacturer'].unique()"
   ]
  },
  {
   "cell_type": "code",
   "execution_count": 72,
   "metadata": {},
   "outputs": [
    {
     "data": {
      "text/plain": [
       "<bound method Series.unique of 0      4.50GHz,\n",
       "1      4.90GHz,\n",
       "2      4.80GHz,\n",
       "3      4.80GHz,\n",
       "4      5.40GHz,\n",
       "         ...   \n",
       "820    4.50GHz,\n",
       "821    4.90GHz,\n",
       "822    4.50GHz,\n",
       "823    5.80GHz,\n",
       "824    5.20GHz,\n",
       "Name: CPU Speed (GHz), Length: 825, dtype: object>"
      ]
     },
     "execution_count": 72,
     "metadata": {},
     "output_type": "execute_result"
    }
   ],
   "source": [
    "ltworld_data['CPU Speed (GHz)'].unique"
   ]
  },
  {
   "cell_type": "code",
   "execution_count": 73,
   "metadata": {},
   "outputs": [
    {
     "data": {
      "text/plain": [
       "array(['4.50', '4.90', '4.80', '5.40', '5.00', '4.60', '4.30', '4.70',\n",
       "       '5.10', '3.4', '4.40', '4.5', '4.55', '4.7', '3.80', '5.0', '5.20',\n",
       "       '4.20', '5.80', '5.50', '4.8', '5.60', '5.30', '4.75', '4.9'],\n",
       "      dtype=object)"
      ]
     },
     "execution_count": 73,
     "metadata": {},
     "output_type": "execute_result"
    }
   ],
   "source": [
    "ltworld_data['CPU Speed (GHz)'] = ltworld_data['CPU Speed (GHz)'].str.extract('(\\d+\\.?\\d*)')\n",
    "ltworld_data['CPU Speed (GHz)'].unique()"
   ]
  },
  {
   "cell_type": "code",
   "execution_count": 74,
   "metadata": {},
   "outputs": [
    {
     "data": {
      "text/plain": [
       "Intel®                       279\n",
       "NVIDIA®                      214\n",
       "Intel                        184\n",
       "NVIDIA                        70\n",
       "AMD                           50\n",
       "Integrated                    10\n",
       "Qualcomm                       3\n",
       "NNVIDIA®                       3\n",
       "Nvidia                         3\n",
       "NVIDIA® GeForce RTX™ 4050      2\n",
       "NVIDIA®GeForce®                2\n",
       "NVIDIA® GeForce RTX™ 3050      2\n",
       "NVIDIA® GeForce RTX™ 4060      1\n",
       "NVIDIA® GeForce RTX™ 4070      1\n",
       "512GB                          1\n",
       "Name: GPU Manufacturer, dtype: int64"
      ]
     },
     "execution_count": 74,
     "metadata": {},
     "output_type": "execute_result"
    }
   ],
   "source": [
    "ltworld_data['GPU Manufacturer'].value_counts()"
   ]
  },
  {
   "cell_type": "code",
   "execution_count": 75,
   "metadata": {},
   "outputs": [],
   "source": [
    "def extract_manufacturer(name):\n",
    "    # List of known GPU manufacturers\n",
    "    manufacturers = ['NVIDIA', 'Intel', 'AMD', 'Qualcomm', 'Integrated']\n",
    "    \n",
    "    # Check for manufacturer name using regex\n",
    "    for manufacturer in manufacturers:\n",
    "        if re.search(manufacturer, name, re.IGNORECASE):\n",
    "            return manufacturer.capitalize()  # Return cleaned name\n",
    "    return None  # If no match, return None\n",
    "\n",
    "ltworld_data['GPU Manufacturer'] = ltworld_data['GPU Manufacturer'].apply(extract_manufacturer)"
   ]
  },
  {
   "cell_type": "code",
   "execution_count": 76,
   "metadata": {},
   "outputs": [
    {
     "data": {
      "text/plain": [
       "Intel         463\n",
       "Nvidia        298\n",
       "Amd            50\n",
       "Integrated     10\n",
       "Qualcomm        3\n",
       "Name: GPU Manufacturer, dtype: int64"
      ]
     },
     "execution_count": 76,
     "metadata": {},
     "output_type": "execute_result"
    }
   ],
   "source": [
    "ltworld_data['GPU Manufacturer'].value_counts()"
   ]
  },
  {
   "cell_type": "code",
   "execution_count": 77,
   "metadata": {},
   "outputs": [
    {
     "data": {
      "text/plain": [
       "Lenovo      275\n",
       "HP          149\n",
       "Dell        125\n",
       "Acer        101\n",
       "Asus         83\n",
       "MSI          44\n",
       "ASUS         18\n",
       "LG           16\n",
       "Gigabyte     14\n",
       "Name: Manufacturer, dtype: int64"
      ]
     },
     "execution_count": 77,
     "metadata": {},
     "output_type": "execute_result"
    }
   ],
   "source": [
    "ltworld_data['Manufacturer'].value_counts()"
   ]
  },
  {
   "cell_type": "code",
   "execution_count": 78,
   "metadata": {},
   "outputs": [],
   "source": [
    "ltworld_data['Price'] = (\n",
    "    ltworld_data['Price']\n",
    "    .str.replace('.', '', regex=True)  # Remove periods\n",
    "    .replace('', None)  # Replace empty strings with None\n",
    ")\n",
    "\n",
    "# Convert to numeric, coercing invalid entries to NaN\n",
    "ltworld_data['Price'] = pd.to_numeric(ltworld_data['Price'], errors='coerce')"
   ]
  },
  {
   "cell_type": "code",
   "execution_count": 79,
   "metadata": {},
   "outputs": [
    {
     "name": "stdout",
     "output_type": "stream",
     "text": [
      "False\n"
     ]
    }
   ],
   "source": [
    "print(ltworld_data['Price'].isna().any())"
   ]
  },
  {
   "cell_type": "code",
   "execution_count": 80,
   "metadata": {},
   "outputs": [
    {
     "data": {
      "text/html": [
       "<div>\n",
       "<style scoped>\n",
       "    .dataframe tbody tr th:only-of-type {\n",
       "        vertical-align: middle;\n",
       "    }\n",
       "\n",
       "    .dataframe tbody tr th {\n",
       "        vertical-align: top;\n",
       "    }\n",
       "\n",
       "    .dataframe thead th {\n",
       "        text-align: right;\n",
       "    }\n",
       "</style>\n",
       "<table border=\"1\" class=\"dataframe\">\n",
       "  <thead>\n",
       "    <tr style=\"text-align: right;\">\n",
       "      <th></th>\n",
       "      <th>Battery (WHrs)</th>\n",
       "      <th>Bus (MHz)</th>\n",
       "      <th>CPU Brand Modifier</th>\n",
       "      <th>CPU Generation</th>\n",
       "      <th>CPU Manufacturer</th>\n",
       "      <th>CPU Speed (GHz)</th>\n",
       "      <th>GPU Manufacturer</th>\n",
       "      <th>Manufacturer</th>\n",
       "      <th>RAM</th>\n",
       "      <th>RAM Type</th>\n",
       "      <th>Screen Resolution</th>\n",
       "      <th>Screen Size (Inches)</th>\n",
       "      <th>Storage (GB)</th>\n",
       "      <th>Weight (kg)</th>\n",
       "      <th>Battery (WHrs)</th>\n",
       "      <th>Price</th>\n",
       "    </tr>\n",
       "  </thead>\n",
       "  <tbody>\n",
       "    <tr>\n",
       "      <th>0</th>\n",
       "      <td>75</td>\n",
       "      <td>7467</td>\n",
       "      <td>Ultra5</td>\n",
       "      <td>125H</td>\n",
       "      <td>Intel</td>\n",
       "      <td>4.50</td>\n",
       "      <td>Intel</td>\n",
       "      <td>Asus</td>\n",
       "      <td>16GB</td>\n",
       "      <td>LPDDR5X</td>\n",
       "      <td>2880 x 1800</td>\n",
       "      <td>14.0</td>\n",
       "      <td>512GB</td>\n",
       "      <td>1.30 kg</td>\n",
       "      <td>75WHrs,</td>\n",
       "      <td>26990000</td>\n",
       "    </tr>\n",
       "    <tr>\n",
       "      <th>1</th>\n",
       "      <td>59</td>\n",
       "      <td>6400</td>\n",
       "      <td>5</td>\n",
       "      <td>8640HS</td>\n",
       "      <td>AMD</td>\n",
       "      <td>4.90</td>\n",
       "      <td>Amd</td>\n",
       "      <td>HP</td>\n",
       "      <td>16GB</td>\n",
       "      <td>LPDDR5</td>\n",
       "      <td>2880 x 1800</td>\n",
       "      <td>14</td>\n",
       "      <td>512GB</td>\n",
       "      <td>Đèn nền bàn phím</td>\n",
       "      <td>59Wh</td>\n",
       "      <td>28990000</td>\n",
       "    </tr>\n",
       "    <tr>\n",
       "      <th>2</th>\n",
       "      <td>70</td>\n",
       "      <td>8533</td>\n",
       "      <td>Ultra7</td>\n",
       "      <td>258V</td>\n",
       "      <td>Intel</td>\n",
       "      <td>4.80</td>\n",
       "      <td>Intel</td>\n",
       "      <td>Lenovo</td>\n",
       "      <td>32GB</td>\n",
       "      <td>LPDDR5x</td>\n",
       "      <td>WQXGA+, 2880x1800</td>\n",
       "      <td>15.3</td>\n",
       "      <td>1TB</td>\n",
       "      <td>1.53 kg</td>\n",
       "      <td>70WHrs</td>\n",
       "      <td>42990000</td>\n",
       "    </tr>\n",
       "    <tr>\n",
       "      <th>3</th>\n",
       "      <td>59</td>\n",
       "      <td>6400</td>\n",
       "      <td>Ultra7</td>\n",
       "      <td>155U</td>\n",
       "      <td>Intel</td>\n",
       "      <td>4.80</td>\n",
       "      <td>Intel</td>\n",
       "      <td>HP</td>\n",
       "      <td>32GB</td>\n",
       "      <td>LPDDR5</td>\n",
       "      <td>2880 x 1800</td>\n",
       "      <td>14</td>\n",
       "      <td>512GB</td>\n",
       "      <td>Đèn nền bàn phím</td>\n",
       "      <td>59Wh</td>\n",
       "      <td>35290000</td>\n",
       "    </tr>\n",
       "    <tr>\n",
       "      <th>4</th>\n",
       "      <td>41</td>\n",
       "      <td>3200</td>\n",
       "      <td>7-150U</td>\n",
       "      <td>150U</td>\n",
       "      <td>Intel</td>\n",
       "      <td>5.40</td>\n",
       "      <td>Intel</td>\n",
       "      <td>HP</td>\n",
       "      <td>16GB</td>\n",
       "      <td>DDR4</td>\n",
       "      <td>1920 x 1080</td>\n",
       "      <td>14</td>\n",
       "      <td>512GB</td>\n",
       "      <td>1.4 kg</td>\n",
       "      <td>41WHrs</td>\n",
       "      <td>22990000</td>\n",
       "    </tr>\n",
       "  </tbody>\n",
       "</table>\n",
       "</div>"
      ],
      "text/plain": [
       "  Battery (WHrs) Bus (MHz) CPU Brand Modifier CPU Generation CPU Manufacturer  \\\n",
       "0             75      7467             Ultra5           125H            Intel   \n",
       "1             59      6400                  5         8640HS              AMD   \n",
       "2             70      8533             Ultra7           258V            Intel   \n",
       "3             59      6400             Ultra7           155U            Intel   \n",
       "4             41      3200             7-150U           150U            Intel   \n",
       "\n",
       "  CPU Speed (GHz) GPU Manufacturer Manufacturer   RAM RAM Type  \\\n",
       "0            4.50            Intel         Asus  16GB  LPDDR5X   \n",
       "1            4.90              Amd           HP  16GB   LPDDR5   \n",
       "2            4.80            Intel       Lenovo  32GB  LPDDR5x   \n",
       "3            4.80            Intel           HP  32GB   LPDDR5   \n",
       "4            5.40            Intel           HP  16GB     DDR4   \n",
       "\n",
       "   Screen Resolution Screen Size (Inches) Storage (GB)       Weight (kg)  \\\n",
       "0        2880 x 1800                 14.0        512GB           1.30 kg   \n",
       "1        2880 x 1800                   14        512GB  Đèn nền bàn phím   \n",
       "2  WQXGA+, 2880x1800                 15.3          1TB           1.53 kg   \n",
       "3        2880 x 1800                   14        512GB  Đèn nền bàn phím   \n",
       "4        1920 x 1080                   14        512GB            1.4 kg   \n",
       "\n",
       "  Battery (WHrs)      Price  \n",
       "0         75WHrs,  26990000  \n",
       "1            59Wh  28990000  \n",
       "2          70WHrs  42990000  \n",
       "3            59Wh  35290000  \n",
       "4          41WHrs  22990000  "
      ]
     },
     "execution_count": 80,
     "metadata": {},
     "output_type": "execute_result"
    }
   ],
   "source": [
    "column_to_move = ltworld_data.pop('Price')  # Remove the column\n",
    "ltworld_data['Price'] = column_to_move  # Append it back to the end\n",
    "\n",
    "ltworld_data.head()"
   ]
  },
  {
   "cell_type": "code",
   "execution_count": 81,
   "metadata": {},
   "outputs": [
    {
     "data": {
      "text/html": [
       "<div>\n",
       "<style scoped>\n",
       "    .dataframe tbody tr th:only-of-type {\n",
       "        vertical-align: middle;\n",
       "    }\n",
       "\n",
       "    .dataframe tbody tr th {\n",
       "        vertical-align: top;\n",
       "    }\n",
       "\n",
       "    .dataframe thead th {\n",
       "        text-align: right;\n",
       "    }\n",
       "</style>\n",
       "<table border=\"1\" class=\"dataframe\">\n",
       "  <thead>\n",
       "    <tr style=\"text-align: right;\">\n",
       "      <th></th>\n",
       "      <th>Battery (WHrs)</th>\n",
       "      <th>Bus (MHz)</th>\n",
       "      <th>CPU Brand Modifier</th>\n",
       "      <th>CPU Generation</th>\n",
       "      <th>CPU Manufacturer</th>\n",
       "      <th>CPU Speed (GHz)</th>\n",
       "      <th>GPU Manufacturer</th>\n",
       "      <th>Manufacturer</th>\n",
       "      <th>RAM</th>\n",
       "      <th>RAM Type</th>\n",
       "      <th>Screen Resolution</th>\n",
       "      <th>Screen Size (Inches)</th>\n",
       "      <th>Storage (GB)</th>\n",
       "      <th>Weight (kg)</th>\n",
       "      <th>Price</th>\n",
       "    </tr>\n",
       "  </thead>\n",
       "  <tbody>\n",
       "    <tr>\n",
       "      <th>0</th>\n",
       "      <td>75</td>\n",
       "      <td>7467</td>\n",
       "      <td>Ultra5</td>\n",
       "      <td>125H</td>\n",
       "      <td>Intel</td>\n",
       "      <td>4.50</td>\n",
       "      <td>Intel</td>\n",
       "      <td>Asus</td>\n",
       "      <td>16GB</td>\n",
       "      <td>LPDDR5X</td>\n",
       "      <td>2880 x 1800</td>\n",
       "      <td>14.0</td>\n",
       "      <td>512GB</td>\n",
       "      <td>1.30 kg</td>\n",
       "      <td>26990000</td>\n",
       "    </tr>\n",
       "    <tr>\n",
       "      <th>1</th>\n",
       "      <td>59</td>\n",
       "      <td>6400</td>\n",
       "      <td>5</td>\n",
       "      <td>8640HS</td>\n",
       "      <td>AMD</td>\n",
       "      <td>4.90</td>\n",
       "      <td>Amd</td>\n",
       "      <td>HP</td>\n",
       "      <td>16GB</td>\n",
       "      <td>LPDDR5</td>\n",
       "      <td>2880 x 1800</td>\n",
       "      <td>14</td>\n",
       "      <td>512GB</td>\n",
       "      <td>Đèn nền bàn phím</td>\n",
       "      <td>28990000</td>\n",
       "    </tr>\n",
       "    <tr>\n",
       "      <th>2</th>\n",
       "      <td>70</td>\n",
       "      <td>8533</td>\n",
       "      <td>Ultra7</td>\n",
       "      <td>258V</td>\n",
       "      <td>Intel</td>\n",
       "      <td>4.80</td>\n",
       "      <td>Intel</td>\n",
       "      <td>Lenovo</td>\n",
       "      <td>32GB</td>\n",
       "      <td>LPDDR5x</td>\n",
       "      <td>WQXGA+, 2880x1800</td>\n",
       "      <td>15.3</td>\n",
       "      <td>1TB</td>\n",
       "      <td>1.53 kg</td>\n",
       "      <td>42990000</td>\n",
       "    </tr>\n",
       "    <tr>\n",
       "      <th>3</th>\n",
       "      <td>59</td>\n",
       "      <td>6400</td>\n",
       "      <td>Ultra7</td>\n",
       "      <td>155U</td>\n",
       "      <td>Intel</td>\n",
       "      <td>4.80</td>\n",
       "      <td>Intel</td>\n",
       "      <td>HP</td>\n",
       "      <td>32GB</td>\n",
       "      <td>LPDDR5</td>\n",
       "      <td>2880 x 1800</td>\n",
       "      <td>14</td>\n",
       "      <td>512GB</td>\n",
       "      <td>Đèn nền bàn phím</td>\n",
       "      <td>35290000</td>\n",
       "    </tr>\n",
       "    <tr>\n",
       "      <th>4</th>\n",
       "      <td>41</td>\n",
       "      <td>3200</td>\n",
       "      <td>7-150U</td>\n",
       "      <td>150U</td>\n",
       "      <td>Intel</td>\n",
       "      <td>5.40</td>\n",
       "      <td>Intel</td>\n",
       "      <td>HP</td>\n",
       "      <td>16GB</td>\n",
       "      <td>DDR4</td>\n",
       "      <td>1920 x 1080</td>\n",
       "      <td>14</td>\n",
       "      <td>512GB</td>\n",
       "      <td>1.4 kg</td>\n",
       "      <td>22990000</td>\n",
       "    </tr>\n",
       "  </tbody>\n",
       "</table>\n",
       "</div>"
      ],
      "text/plain": [
       "  Battery (WHrs) Bus (MHz) CPU Brand Modifier CPU Generation CPU Manufacturer  \\\n",
       "0             75      7467             Ultra5           125H            Intel   \n",
       "1             59      6400                  5         8640HS              AMD   \n",
       "2             70      8533             Ultra7           258V            Intel   \n",
       "3             59      6400             Ultra7           155U            Intel   \n",
       "4             41      3200             7-150U           150U            Intel   \n",
       "\n",
       "  CPU Speed (GHz) GPU Manufacturer Manufacturer   RAM RAM Type  \\\n",
       "0            4.50            Intel         Asus  16GB  LPDDR5X   \n",
       "1            4.90              Amd           HP  16GB   LPDDR5   \n",
       "2            4.80            Intel       Lenovo  32GB  LPDDR5x   \n",
       "3            4.80            Intel           HP  32GB   LPDDR5   \n",
       "4            5.40            Intel           HP  16GB     DDR4   \n",
       "\n",
       "   Screen Resolution Screen Size (Inches) Storage (GB)       Weight (kg)  \\\n",
       "0        2880 x 1800                 14.0        512GB           1.30 kg   \n",
       "1        2880 x 1800                   14        512GB  Đèn nền bàn phím   \n",
       "2  WQXGA+, 2880x1800                 15.3          1TB           1.53 kg   \n",
       "3        2880 x 1800                   14        512GB  Đèn nền bàn phím   \n",
       "4        1920 x 1080                   14        512GB            1.4 kg   \n",
       "\n",
       "      Price  \n",
       "0  26990000  \n",
       "1  28990000  \n",
       "2  42990000  \n",
       "3  35290000  \n",
       "4  22990000  "
      ]
     },
     "execution_count": 81,
     "metadata": {},
     "output_type": "execute_result"
    }
   ],
   "source": [
    "ltworld_data = ltworld_data.drop(ltworld_data.columns[14], axis=1)\n",
    "ltworld_data.head()"
   ]
  },
  {
   "cell_type": "code",
   "execution_count": 82,
   "metadata": {},
   "outputs": [
    {
     "data": {
      "text/plain": [
       "array(['16GB', '32GB', '8GB', '16GB(2x', '8GB(8GBx1)', '16GB(1x16GB)',\n",
       "       '24GB', '64GB', '32GB(2x', '64GB(2x', '32GB(1x', '96GB', '16GB(1x',\n",
       "       '4GB', '16GB(8GBx2)', '16GB(2x8GB)', '8GB(4GBx2)', '16GB(8GB',\n",
       "       '12GB', '32GB(2x16GB)', '8GB(1x8GB)', '16GB(16GBx1)',\n",
       "       '32GB(16GBx2)', '24GB(2x', '16GB(1'], dtype=object)"
      ]
     },
     "execution_count": 82,
     "metadata": {},
     "output_type": "execute_result"
    }
   ],
   "source": [
    "ltworld_data['RAM'].unique()"
   ]
  },
  {
   "cell_type": "code",
   "execution_count": 83,
   "metadata": {},
   "outputs": [
    {
     "data": {
      "text/plain": [
       "array([16, 32,  8, 24, 64, 96,  4, 12], dtype=int64)"
      ]
     },
     "execution_count": 83,
     "metadata": {},
     "output_type": "execute_result"
    }
   ],
   "source": [
    "# Function to extract the first numeric GB value\n",
    "def extract_gb(value):\n",
    "    match = re.search(r'(\\d+)(?=GB)', value)  # Match digits before 'GB'\n",
    "    return int(match.group(1)) if match else None\n",
    "\n",
    "ltworld_data['RAM'] = ltworld_data['RAM'].apply(extract_gb)\n",
    "ltworld_data['RAM'].unique()"
   ]
  },
  {
   "cell_type": "code",
   "execution_count": 84,
   "metadata": {},
   "outputs": [
    {
     "data": {
      "text/html": [
       "<div>\n",
       "<style scoped>\n",
       "    .dataframe tbody tr th:only-of-type {\n",
       "        vertical-align: middle;\n",
       "    }\n",
       "\n",
       "    .dataframe tbody tr th {\n",
       "        vertical-align: top;\n",
       "    }\n",
       "\n",
       "    .dataframe thead th {\n",
       "        text-align: right;\n",
       "    }\n",
       "</style>\n",
       "<table border=\"1\" class=\"dataframe\">\n",
       "  <thead>\n",
       "    <tr style=\"text-align: right;\">\n",
       "      <th></th>\n",
       "      <th>Battery (WHrs)</th>\n",
       "      <th>Bus (MHz)</th>\n",
       "      <th>CPU Brand Modifier</th>\n",
       "      <th>CPU Generation</th>\n",
       "      <th>CPU Manufacturer</th>\n",
       "      <th>CPU Speed (GHz)</th>\n",
       "      <th>GPU Manufacturer</th>\n",
       "      <th>Manufacturer</th>\n",
       "      <th>RAM (GB)</th>\n",
       "      <th>RAM Type</th>\n",
       "      <th>Screen Resolution</th>\n",
       "      <th>Screen Size (Inches)</th>\n",
       "      <th>Storage (GB)</th>\n",
       "      <th>Weight (kg)</th>\n",
       "      <th>Price</th>\n",
       "    </tr>\n",
       "  </thead>\n",
       "  <tbody>\n",
       "    <tr>\n",
       "      <th>0</th>\n",
       "      <td>75</td>\n",
       "      <td>7467</td>\n",
       "      <td>Ultra5</td>\n",
       "      <td>125H</td>\n",
       "      <td>Intel</td>\n",
       "      <td>4.50</td>\n",
       "      <td>Intel</td>\n",
       "      <td>Asus</td>\n",
       "      <td>16</td>\n",
       "      <td>LPDDR5X</td>\n",
       "      <td>2880 x 1800</td>\n",
       "      <td>14.0</td>\n",
       "      <td>512GB</td>\n",
       "      <td>1.30 kg</td>\n",
       "      <td>26990000</td>\n",
       "    </tr>\n",
       "    <tr>\n",
       "      <th>1</th>\n",
       "      <td>59</td>\n",
       "      <td>6400</td>\n",
       "      <td>5</td>\n",
       "      <td>8640HS</td>\n",
       "      <td>AMD</td>\n",
       "      <td>4.90</td>\n",
       "      <td>Amd</td>\n",
       "      <td>HP</td>\n",
       "      <td>16</td>\n",
       "      <td>LPDDR5</td>\n",
       "      <td>2880 x 1800</td>\n",
       "      <td>14</td>\n",
       "      <td>512GB</td>\n",
       "      <td>Đèn nền bàn phím</td>\n",
       "      <td>28990000</td>\n",
       "    </tr>\n",
       "    <tr>\n",
       "      <th>2</th>\n",
       "      <td>70</td>\n",
       "      <td>8533</td>\n",
       "      <td>Ultra7</td>\n",
       "      <td>258V</td>\n",
       "      <td>Intel</td>\n",
       "      <td>4.80</td>\n",
       "      <td>Intel</td>\n",
       "      <td>Lenovo</td>\n",
       "      <td>32</td>\n",
       "      <td>LPDDR5x</td>\n",
       "      <td>WQXGA+, 2880x1800</td>\n",
       "      <td>15.3</td>\n",
       "      <td>1TB</td>\n",
       "      <td>1.53 kg</td>\n",
       "      <td>42990000</td>\n",
       "    </tr>\n",
       "    <tr>\n",
       "      <th>3</th>\n",
       "      <td>59</td>\n",
       "      <td>6400</td>\n",
       "      <td>Ultra7</td>\n",
       "      <td>155U</td>\n",
       "      <td>Intel</td>\n",
       "      <td>4.80</td>\n",
       "      <td>Intel</td>\n",
       "      <td>HP</td>\n",
       "      <td>32</td>\n",
       "      <td>LPDDR5</td>\n",
       "      <td>2880 x 1800</td>\n",
       "      <td>14</td>\n",
       "      <td>512GB</td>\n",
       "      <td>Đèn nền bàn phím</td>\n",
       "      <td>35290000</td>\n",
       "    </tr>\n",
       "    <tr>\n",
       "      <th>4</th>\n",
       "      <td>41</td>\n",
       "      <td>3200</td>\n",
       "      <td>7-150U</td>\n",
       "      <td>150U</td>\n",
       "      <td>Intel</td>\n",
       "      <td>5.40</td>\n",
       "      <td>Intel</td>\n",
       "      <td>HP</td>\n",
       "      <td>16</td>\n",
       "      <td>DDR4</td>\n",
       "      <td>1920 x 1080</td>\n",
       "      <td>14</td>\n",
       "      <td>512GB</td>\n",
       "      <td>1.4 kg</td>\n",
       "      <td>22990000</td>\n",
       "    </tr>\n",
       "  </tbody>\n",
       "</table>\n",
       "</div>"
      ],
      "text/plain": [
       "  Battery (WHrs) Bus (MHz) CPU Brand Modifier CPU Generation CPU Manufacturer  \\\n",
       "0             75      7467             Ultra5           125H            Intel   \n",
       "1             59      6400                  5         8640HS              AMD   \n",
       "2             70      8533             Ultra7           258V            Intel   \n",
       "3             59      6400             Ultra7           155U            Intel   \n",
       "4             41      3200             7-150U           150U            Intel   \n",
       "\n",
       "  CPU Speed (GHz) GPU Manufacturer Manufacturer  RAM (GB) RAM Type  \\\n",
       "0            4.50            Intel         Asus        16  LPDDR5X   \n",
       "1            4.90              Amd           HP        16   LPDDR5   \n",
       "2            4.80            Intel       Lenovo        32  LPDDR5x   \n",
       "3            4.80            Intel           HP        32   LPDDR5   \n",
       "4            5.40            Intel           HP        16     DDR4   \n",
       "\n",
       "   Screen Resolution Screen Size (Inches) Storage (GB)       Weight (kg)  \\\n",
       "0        2880 x 1800                 14.0        512GB           1.30 kg   \n",
       "1        2880 x 1800                   14        512GB  Đèn nền bàn phím   \n",
       "2  WQXGA+, 2880x1800                 15.3          1TB           1.53 kg   \n",
       "3        2880 x 1800                   14        512GB  Đèn nền bàn phím   \n",
       "4        1920 x 1080                   14        512GB            1.4 kg   \n",
       "\n",
       "      Price  \n",
       "0  26990000  \n",
       "1  28990000  \n",
       "2  42990000  \n",
       "3  35290000  \n",
       "4  22990000  "
      ]
     },
     "execution_count": 84,
     "metadata": {},
     "output_type": "execute_result"
    }
   ],
   "source": [
    "ltworld_data.rename(columns={'RAM': 'RAM (GB)'}, inplace=True)\n",
    "ltworld_data.head()"
   ]
  },
  {
   "cell_type": "code",
   "execution_count": 85,
   "metadata": {},
   "outputs": [
    {
     "data": {
      "text/plain": [
       "array(['LPDDR5X', 'LPDDR5', 'LPDDR5x', 'DDR4', 'DDR5', 'LPDDR4x',\n",
       "       'LPDDR4X', nan, 'LDDR4', 'DDR5X'], dtype=object)"
      ]
     },
     "execution_count": 85,
     "metadata": {},
     "output_type": "execute_result"
    }
   ],
   "source": [
    "ltworld_data['RAM Type'].unique()"
   ]
  },
  {
   "cell_type": "code",
   "execution_count": 86,
   "metadata": {},
   "outputs": [
    {
     "data": {
      "text/plain": [
       "array(['14.0', '14', '15.3', '15.6', '16.0', '14-', '14.5', '14.0-', '16',\n",
       "       '13.3', '17', '15.6\"', '16.3', '13.4', '13.5', '17\"', '18',\n",
       "       '15.6-', '16.1', '16-', '7.0', '18-', '17.3', '15.6-,'],\n",
       "      dtype=object)"
      ]
     },
     "execution_count": 86,
     "metadata": {},
     "output_type": "execute_result"
    }
   ],
   "source": [
    "ltworld_data['Screen Size (Inches)'].unique()"
   ]
  },
  {
   "cell_type": "code",
   "execution_count": 87,
   "metadata": {},
   "outputs": [
    {
     "data": {
      "text/plain": [
       "array([14. , 15.3, 15.6, 16. , 14.5, 13.3, 17. , 16.3, 13.4, 13.5, 18. ,\n",
       "       16.1,  7. , 17.3])"
      ]
     },
     "execution_count": 87,
     "metadata": {},
     "output_type": "execute_result"
    }
   ],
   "source": [
    "def extract_numbers(value):\n",
    "    match = re.search(r'\\d+\\.?\\d*', str(value))  # Extract digits with optional decimal\n",
    "    return float(match.group()) if match else None\n",
    "\n",
    "ltworld_data['Screen Size (Inches)'] = ltworld_data['Screen Size (Inches)'].apply(extract_numbers)\n",
    "ltworld_data['Screen Size (Inches)'].unique()"
   ]
  },
  {
   "cell_type": "code",
   "execution_count": 88,
   "metadata": {},
   "outputs": [
    {
     "data": {
      "text/plain": [
       "14.0    293\n",
       "15.6    226\n",
       "16.0    186\n",
       "13.3     36\n",
       "14.5     27\n",
       "16.1     16\n",
       "18.0     11\n",
       "16.3     10\n",
       "13.4      7\n",
       "17.0      6\n",
       "15.3      2\n",
       "13.5      2\n",
       "7.0       2\n",
       "17.3      1\n",
       "Name: Screen Size (Inches), dtype: int64"
      ]
     },
     "execution_count": 88,
     "metadata": {},
     "output_type": "execute_result"
    }
   ],
   "source": [
    "ltworld_data['Screen Size (Inches)'].value_counts()"
   ]
  },
  {
   "cell_type": "code",
   "execution_count": 89,
   "metadata": {},
   "outputs": [
    {
     "data": {
      "text/plain": [
       "array(['2880 x 1800', 'WQXGA+, 2880x1800', '1920 x 1080', '1920x1080',\n",
       "       '1920 x 1200', '2048x1280', '2880x1800', '2560x1600', '1920x1200',\n",
       "       '2880 x 1620', '2240x1400', '2560 x 1600', '2880×1880',\n",
       "       '3072x1920', '3840x2400', '2880×1800', '1920x 1080',\n",
       "       'WUXGA, 1920 x 1200', '3072 x 1920', '2560×1600', '3840 x 2400',\n",
       "       '3200 x 2000', '2880x1620', '3000 x 2000', '2560 x 1440', '2.8K',\n",
       "       '3200x2000', '1366x768', '1920 x 1280', 'WQXGA',\n",
       "       '1920 x 1200, WUXGA', '2560 x 1600, WQXGA', 'WQXGA, 2560x1600',\n",
       "       'WQXGA, 2560×1600', '1920 x1200', '1980 x 1080', 'WUXGA',\n",
       "       '1900 x 1200'], dtype=object)"
      ]
     },
     "execution_count": 89,
     "metadata": {},
     "output_type": "execute_result"
    }
   ],
   "source": [
    "ltworld_data['Screen Resolution'].unique()"
   ]
  },
  {
   "cell_type": "code",
   "execution_count": 90,
   "metadata": {},
   "outputs": [
    {
     "data": {
      "text/plain": [
       "1920 x 1080           231\n",
       "1920x1200             169\n",
       "1920x1080              98\n",
       "1920 x 1200            79\n",
       "2560x1600              46\n",
       "2880 x 1800            44\n",
       "2560 x 1600            42\n",
       "3840x2400              15\n",
       "2880x1800              14\n",
       "2240x1400              11\n",
       "3072 x 1920             8\n",
       "3840 x 2400             7\n",
       "2560 x 1600, WQXGA      7\n",
       "WQXGA+, 2880x1800       5\n",
       "WQXGA                   5\n",
       "3200 x 2000             5\n",
       "2880 x 1620             5\n",
       "3200x2000               4\n",
       "WQXGA, 2560x1600        4\n",
       "2048x1280               4\n",
       "WUXGA, 1920 x 1200      3\n",
       "2880×1880               2\n",
       "3072x1920               2\n",
       "1920 x1200              1\n",
       "WQXGA, 2560×1600        1\n",
       "1980 x 1080             1\n",
       "WUXGA                   1\n",
       "1920 x 1200, WUXGA      1\n",
       "2560×1600               1\n",
       "1920 x 1280             1\n",
       "1366x768                1\n",
       "2.8K                    1\n",
       "2560 x 1440             1\n",
       "3000 x 2000             1\n",
       "2880x1620               1\n",
       "1920x 1080              1\n",
       "2880×1800               1\n",
       "1900 x 1200             1\n",
       "Name: Screen Resolution, dtype: int64"
      ]
     },
     "execution_count": 90,
     "metadata": {},
     "output_type": "execute_result"
    }
   ],
   "source": [
    "ltworld_data['Screen Resolution'].value_counts()"
   ]
  },
  {
   "cell_type": "code",
   "execution_count": 91,
   "metadata": {},
   "outputs": [
    {
     "data": {
      "text/plain": [
       "array(['2880x1800', '1920x1080', '1920x1200', '2048x1280', '2560x1600',\n",
       "       '2880x1620', '2240x1400', '2880x1880', '3072x1920', '3840x2400',\n",
       "       '3200x2000', '3000x2000', '2560x1440', '1366x768', '1920x1280',\n",
       "       '1980x1080', '1900x1200'], dtype=object)"
      ]
     },
     "execution_count": 91,
     "metadata": {},
     "output_type": "execute_result"
    }
   ],
   "source": [
    "shorthand_to_resolution = {\n",
    "    '2.8K': '2880x1800',\n",
    "    '3K': '3072x1920',\n",
    "    '4K': '3840x2160',\n",
    "    '5K': '5120x2880',\n",
    "    'WQXGA': '2560x1600',\n",
    "    'WUXGA': '1920x1200'\n",
    "}\n",
    "\n",
    "def extract_or_convert_resolution(value):\n",
    "    # Check for shorthand resolution and map it\n",
    "    if value in shorthand_to_resolution:\n",
    "        return shorthand_to_resolution[value]\n",
    "    # Regex to extract standard resolution\n",
    "    match = re.search(r'\\d{3,4}\\s?[x×]\\s?\\d{3,4}', value)\n",
    "    return match.group().replace('×', 'x').replace(' ', '') if match else None\n",
    "\n",
    "ltworld_data['Screen Resolution'] = ltworld_data['Screen Resolution'].apply(extract_or_convert_resolution)\n",
    "ltworld_data['Screen Resolution'].unique()"
   ]
  },
  {
   "cell_type": "code",
   "execution_count": 92,
   "metadata": {},
   "outputs": [
    {
     "data": {
      "text/plain": [
       "512GB     520\n",
       "1TB       250\n",
       "2TB        26\n",
       "256GB      24\n",
       "512GB,      2\n",
       "512         1\n",
       "4TB         1\n",
       "AMD         1\n",
       "Name: Storage (GB), dtype: int64"
      ]
     },
     "execution_count": 92,
     "metadata": {},
     "output_type": "execute_result"
    }
   ],
   "source": [
    "ltworld_data['Storage (GB)'].value_counts()"
   ]
  },
  {
   "cell_type": "code",
   "execution_count": 93,
   "metadata": {},
   "outputs": [
    {
     "data": {
      "text/plain": [
       "array([ 512., 1024., 2048.,  256., 4096.,   nan])"
      ]
     },
     "execution_count": 93,
     "metadata": {},
     "output_type": "execute_result"
    }
   ],
   "source": [
    "# Function to convert storage values to GB\n",
    "def convert_to_gb(value):\n",
    "    # Extract the numeric part and the unit\n",
    "    match = re.match(r'(\\d+)\\s*(GB|TB)?', str(value).upper())\n",
    "    if match:\n",
    "        number = int(match.group(1))\n",
    "        unit = match.group(2)\n",
    "        if unit == 'TB':  # Convert TB to GB\n",
    "            return number * 1024\n",
    "        elif unit == 'GB' or unit is None:  # Already in GB or no unit\n",
    "            return number\n",
    "    return None  # Return None for invalid values like 'AMD'\n",
    "\n",
    "ltworld_data['Storage (GB)'] = ltworld_data['Storage (GB)'].apply(convert_to_gb)\n",
    "ltworld_data['Storage (GB)'].unique()"
   ]
  },
  {
   "cell_type": "code",
   "execution_count": 94,
   "metadata": {},
   "outputs": [
    {
     "data": {
      "text/plain": [
       "array(['1.30 kg', 'Đèn nền bàn phím', '1.53 kg', '1.4 kg', '1.62 kg',\n",
       "       '1.38 kg', '1.40 kg', '1.91 kg', '999 g', '1.52 kg', '1.95 kg',\n",
       "       '1.45 kg', 'Cool Silver (Bạc)', 'Đen', '1.42 kg', '1.44 kg',\n",
       "       '1.68 kg', 'Ice Blue (Xanh)', '1.85 kg', '1.25 kg',\n",
       "       'Titan Grey (Xám)', '1.27 kg', '1.26 kg', '1197g', '1120 g',\n",
       "       '1.17 kg', '2.18 kg', '1.99 kg', '1247 g', '1.66 kg', '1302 g',\n",
       "       'Grayish Black', '1.61kg', '1.70 kg', '1.75 kg', '1.39kg',\n",
       "       '1378 g', '1.38 Kg', '4Cell 82Whr', '1397g', '1.55 kg',\n",
       "       'Fingerprint, LED Keyboard', '1.36 Kg', 'Xám', 'Earl Gray',\n",
       "       '1.36 kg', '1.24 kg', '2.22 kg', '2.20 kg', 'Silver (Bạc)',\n",
       "       'Trắng', '1.34 kg', '1.32 kg', '1.71 kg', '1.7 kg', '990 g',\n",
       "       'Steel Gray (Xám)', '1.43 kg', '1.82 kg', '1.9 kg', '1.5 kg',\n",
       "       '1.12 kg', '2.13 kg', '1.54 kg', '1.48 kg', 'Black (Đen)',\n",
       "       '1.81 kg', '1.61 kg', '1.2kg', '1.90 kg', 'Iron Gray (Xám)',\n",
       "       '1.35 kg', '1.29 kg', '1.59 kg', '1.65 kg', '1.09 kg', '1.37 kg',\n",
       "       '1199 g', '1.64 kg', '1.56 kg', '1.19 kg', '1.08 kg', '1.28 kg',\n",
       "       '1.50 kg', 'Bazan Grey (Xám)', '1.74 kg', '1.87 kg',\n",
       "       'Stellar Gray', '1.78 kg', '1.69 kg', '0.99 kg',\n",
       "       'Inkwell Gray (Xám)', '1.80 Kg', '1.60 Kg', '1.46 kg', '1.2 kg',\n",
       "       '1.47 kg', 'Blue', 'Bạc', '1.6 kg', '1.01 kg',\n",
       "       'Bảo mật vân tay, Đèn nền bàn phím', '1.77 kg', '1.7kg',\n",
       "       'Platinum Silver (Bạc)', '1.4 Kg', '50Wh', '1.36kg', '1.46kg',\n",
       "       '1.40kg', nan, '1.21 kg', '1.97 kg', '1299 g', '1.8 kg', '1.85kg',\n",
       "       '3Cell 39.3WHr', '1.41 kg', '4Cell 81.77Whr', '1250g',\n",
       "       'Thunder Black (Đen)', '2.1 kg', '1.66kg', '1.49 kg', '1.32 Kg',\n",
       "       '1.60 kg', '1.79 kg', '1.67 kg', 'Gray (Xám)', '1350 g', '1199g',\n",
       "       '1.243 kg', '2.06 kg', '1.51 kg', '1.33 kg', '1.15 kg',\n",
       "       'Ponder Blue', '1.50 Kg', 'Indie Black (Đen)', 'Luna Grey (Xám)',\n",
       "       '2.24 kg', '2.50 kg', '3.30 kg', '3.00 kg', '2.30 kg',\n",
       "       'Cosmo Gray (Xám)', '2.3 Kg', '2.3 kg', '2.70 kg', '2.08 Kg',\n",
       "       '2.55 Kg', '2.29 kg', '4.23 kg', '2.00 Kg', '2.62 kg', '2.1kg',\n",
       "       '2.5kg', '2.30 Kg', '2.20 Kg', '2.45 kg', '2.20Kg', '2.32 kg',\n",
       "       '2.89 kg', '1.46Kg', '2.31 kg', '2.8 kg', '2.6 kg', '2.65 Kg',\n",
       "       '2.08 kg', '2.81 Kg', '2.60 kg', '2.43 kg', '2.35 Kg', '1.30 Kg',\n",
       "       'Windows 11 Home', '1.86 Kg', 'Black', '2.97 kg', '2.79 kg', 'kg',\n",
       "       'Cosmos Gray (Xám)', '2.67kg', 'Translucent Black', '2.4 Kg',\n",
       "       '2.53 Kg', '3.00kg', '2.25kg', '2.7 kg', '2.56 kg', '3.1 kg',\n",
       "       '1.88 kg', '1.795Kg', '1.39 kg', '2.40 kg', '2.5 kg', '2.49 kg',\n",
       "       '2.25 kg', '3.25 kg', '2.31kg', '2.33 kg', '608g', '2.65 kg',\n",
       "       '2.36 kg'], dtype=object)"
      ]
     },
     "execution_count": 94,
     "metadata": {},
     "output_type": "execute_result"
    }
   ],
   "source": [
    "ltworld_data['Weight (kg)'].unique()"
   ]
  },
  {
   "cell_type": "code",
   "execution_count": 95,
   "metadata": {},
   "outputs": [
    {
     "data": {
      "text/plain": [
       "array([1.3  ,   nan, 1.53 , 1.4  , 1.62 , 1.38 , 1.91 , 0.999, 1.52 ,\n",
       "       1.95 , 1.45 , 1.42 , 1.44 , 1.68 , 1.85 , 1.25 , 1.27 , 1.26 ,\n",
       "       1.197, 1.12 , 1.17 , 2.18 , 1.99 , 1.247, 1.66 , 1.302, 1.61 ,\n",
       "       1.7  , 1.75 , 1.39 , 1.378, 1.397, 1.55 , 1.36 , 1.24 , 2.22 ,\n",
       "       2.2  , 1.34 , 1.32 , 1.71 , 0.99 , 1.43 , 1.82 , 1.9  , 1.5  ,\n",
       "       2.13 , 1.54 , 1.48 , 1.81 , 1.2  , 1.35 , 1.29 , 1.59 , 1.65 ,\n",
       "       1.09 , 1.37 , 1.199, 1.64 , 1.56 , 1.19 , 1.08 , 1.28 , 1.74 ,\n",
       "       1.87 , 1.78 , 1.69 , 1.8  , 1.6  , 1.46 , 1.47 , 1.01 , 1.77 ,\n",
       "       1.21 , 1.97 , 1.299, 1.41 , 2.1  , 1.49 , 1.79 , 1.67 , 1.243,\n",
       "       2.06 , 1.51 , 1.33 , 1.15 , 2.24 , 2.5  , 3.3  , 3.   , 2.3  ,\n",
       "       2.7  , 2.08 , 2.55 , 2.29 , 4.23 , 2.   , 2.62 , 2.45 , 2.32 ,\n",
       "       2.89 , 2.31 , 2.8  , 2.6  , 2.65 , 2.81 , 2.43 , 2.35 , 1.86 ,\n",
       "       2.97 , 2.79 , 2.67 , 2.4  , 2.53 , 2.25 , 2.56 , 3.1  , 1.88 ,\n",
       "       1.795, 2.49 , 3.25 , 2.33 , 0.608, 2.36 ])"
      ]
     },
     "execution_count": 95,
     "metadata": {},
     "output_type": "execute_result"
    }
   ],
   "source": [
    "def extract_weight_in_kg(value):\n",
    "    if pd.isna(value):  # Handle NaN values\n",
    "        return np.nan\n",
    "    value = str(value).lower()  # Convert to lowercase for consistency\n",
    "    match = re.search(r'(\\d+\\.?\\d*)\\s*(kg|g)', value)  # Match numbers with 'kg' or 'g'\n",
    "    if match:\n",
    "        weight = float(match.group(1))  # Extract numeric part\n",
    "        unit = match.group(2)  # Extract unit (kg or g)\n",
    "        return weight if unit == 'kg' else weight / 1000  # Convert grams to kg\n",
    "    return np.nan  # Return NaN for non-weight values\n",
    "\n",
    "ltworld_data['Weight (kg)'] = ltworld_data['Weight (kg)'].apply(extract_weight_in_kg)\n",
    "ltworld_data['Weight (kg)'].unique()"
   ]
  },
  {
   "cell_type": "code",
   "execution_count": 96,
   "metadata": {},
   "outputs": [
    {
     "data": {
      "text/plain": [
       "i7             194\n",
       "i5             184\n",
       "Ultra7         124\n",
       "Ultra5          77\n",
       "7               57\n",
       "5               48\n",
       "i9              42\n",
       "i3              33\n",
       "Ultra9          17\n",
       "7-150U          11\n",
       "5-120U           7\n",
       "9                7\n",
       "Ultra5-125U      5\n",
       "AI9              5\n",
       "Ultra7-155U      4\n",
       "EliteX1E         3\n",
       "Ultra7-155H      2\n",
       "3-100U           2\n",
       "Ultra5-125H      1\n",
       "™                1\n",
       "Z1               1\n",
       "Name: CPU Brand Modifier, dtype: int64"
      ]
     },
     "execution_count": 96,
     "metadata": {},
     "output_type": "execute_result"
    }
   ],
   "source": [
    "ltworld_data['CPU Brand Modifier'].value_counts()"
   ]
  },
  {
   "cell_type": "code",
   "execution_count": 97,
   "metadata": {},
   "outputs": [
    {
     "data": {
      "text/plain": [
       "7           262\n",
       "5           239\n",
       "Ultra7      130\n",
       "Ultra5       83\n",
       "9            49\n",
       "3            35\n",
       "Ultra9       17\n",
       "AI9           5\n",
       "EliteX1E      3\n",
       "™             1\n",
       "Z1            1\n",
       "Name: CPU Brand Modifier, dtype: int64"
      ]
     },
     "execution_count": 97,
     "metadata": {},
     "output_type": "execute_result"
    }
   ],
   "source": [
    "def clean_cpu_modifier(value):\n",
    "    if pd.isna(value):\n",
    "        return None\n",
    "    value = str(value)\n",
    "    \n",
    "    # Convert \"i\" series (e.g., \"i9\" -> \"9\")\n",
    "    if re.match(r'i\\d+', value):\n",
    "        return value[1:]  # Remove the leading 'i'\n",
    "    \n",
    "    # Extract 'Ultra' followed by a number (e.g., Ultra5-125U -> Ultra5)\n",
    "    match = re.match(r'(Ultra\\d+)', value)\n",
    "    if match:\n",
    "        return match.group(1)\n",
    "    \n",
    "    # Extract digits or anything that looks like a standalone CPU model\n",
    "    match = re.match(r'(\\d+)', value)\n",
    "    if match:\n",
    "        return match.group(1)\n",
    "    \n",
    "    # Return the value as is for any unrecognized format\n",
    "    return value\n",
    "\n",
    "ltworld_data['CPU Brand Modifier'] = ltworld_data['CPU Brand Modifier'].apply(clean_cpu_modifier)\n",
    "ltworld_data['CPU Brand Modifier'].value_counts()"
   ]
  },
  {
   "cell_type": "code",
   "execution_count": 98,
   "metadata": {},
   "outputs": [],
   "source": [
    "ltworld_data['CPU Brand Modifier'].replace('™', np.nan, inplace=True)"
   ]
  },
  {
   "cell_type": "code",
   "execution_count": 99,
   "metadata": {},
   "outputs": [
    {
     "data": {
      "text/plain": [
       "array(['125H', '8640HS', '258V', '155U', '150U', '120U', '1334U', '1355U',\n",
       "       '5625U', '155H', '1340P', '13500H', '12700H', 'HX', '1335U', 'X',\n",
       "       '1315U', '1235U', '165U', '226V', '125U', '13700H', '1255U', nan,\n",
       "       '7430U', '7730U', '8745H', '5700U', '13420H', '1360P', '1305U',\n",
       "       '8840HS', '12500H', '13900H', '1215U', '7530U', '8845H', '7840U',\n",
       "       '7535U', '7535HS', '185H', '13620H', '1230U', '12450H', '7520U',\n",
       "       '1240P', '12650H', '1365U', '1155G7', '8845HS', '100U', '1250U',\n",
       "       '135U', '8945HS', '7235HS', '7435HS', '14900HX', '13650HX',\n",
       "       '12450HX', '14650HX', '7945HX', '8645HS', '7735HS', '14700HX',\n",
       "       '13450HX', '14500HX', '13900HX', '7940HS', '7840HS', '8840H',\n",
       "       '13980HX', '13950HX', '13850HX', '13700HX', '7840H', '7640HS',\n",
       "       '13800H', '1370P', '14450HX', '165H', '6600H'], dtype=object)"
      ]
     },
     "execution_count": 99,
     "metadata": {},
     "output_type": "execute_result"
    }
   ],
   "source": [
    "ltworld_data['CPU Generation'].unique()"
   ]
  },
  {
   "cell_type": "code",
   "execution_count": 100,
   "metadata": {},
   "outputs": [
    {
     "data": {
      "text/plain": [
       "array([  125.,  8640.,   258.,   155.,   150.,   120.,  1334.,  1355.,\n",
       "        5625.,  1340., 13500., 12700.,    nan,  1335.,  1315.,  1235.,\n",
       "         165.,   226., 13700.,  1255.,  7430.,  7730.,  8745.,  5700.,\n",
       "       13420.,  1360.,  1305.,  8840., 12500., 13900.,  1215.,  7530.,\n",
       "        8845.,  7840.,  7535.,   185., 13620.,  1230., 12450.,  7520.,\n",
       "        1240., 12650.,  1365.,  1155.,   100.,  1250.,   135.,  8945.,\n",
       "        7235.,  7435., 14900., 13650., 14650.,  7945.,  8645.,  7735.,\n",
       "       14700., 13450., 14500.,  7940., 13980., 13950., 13850.,  7640.,\n",
       "       13800.,  1370., 14450.,  6600.])"
      ]
     },
     "execution_count": 100,
     "metadata": {},
     "output_type": "execute_result"
    }
   ],
   "source": [
    "def extract_cpu_gen(value):\n",
    "    if pd.isna(value):  # Handle nan\n",
    "        return np.nan\n",
    "    match = re.search(r'(\\d+)', str(value))  # Find digits\n",
    "    return float(match.group(0)) if match else np.nan\n",
    "ltworld_data['CPU Generation'] = ltworld_data['CPU Generation'].apply(extract_cpu_gen)\n",
    "ltworld_data['CPU Generation'].unique()"
   ]
  },
  {
   "cell_type": "code",
   "execution_count": 101,
   "metadata": {},
   "outputs": [
    {
     "data": {
      "text/html": [
       "<div>\n",
       "<style scoped>\n",
       "    .dataframe tbody tr th:only-of-type {\n",
       "        vertical-align: middle;\n",
       "    }\n",
       "\n",
       "    .dataframe tbody tr th {\n",
       "        vertical-align: top;\n",
       "    }\n",
       "\n",
       "    .dataframe thead th {\n",
       "        text-align: right;\n",
       "    }\n",
       "</style>\n",
       "<table border=\"1\" class=\"dataframe\">\n",
       "  <thead>\n",
       "    <tr style=\"text-align: right;\">\n",
       "      <th></th>\n",
       "      <th>Battery (WHrs)</th>\n",
       "      <th>Bus (MHz)</th>\n",
       "      <th>CPU Brand Modifier</th>\n",
       "      <th>CPU Generation</th>\n",
       "      <th>CPU Manufacturer</th>\n",
       "      <th>CPU Speed (GHz)</th>\n",
       "      <th>GPU Manufacturer</th>\n",
       "      <th>Manufacturer</th>\n",
       "      <th>RAM (GB)</th>\n",
       "      <th>RAM Type</th>\n",
       "      <th>Screen Resolution</th>\n",
       "      <th>Screen Size (Inches)</th>\n",
       "      <th>Storage (GB)</th>\n",
       "      <th>Weight (kg)</th>\n",
       "      <th>Price</th>\n",
       "    </tr>\n",
       "  </thead>\n",
       "  <tbody>\n",
       "    <tr>\n",
       "      <th>0</th>\n",
       "      <td>75</td>\n",
       "      <td>7467</td>\n",
       "      <td>Ultra5</td>\n",
       "      <td>125.0</td>\n",
       "      <td>Intel</td>\n",
       "      <td>4.50</td>\n",
       "      <td>Intel</td>\n",
       "      <td>Asus</td>\n",
       "      <td>16</td>\n",
       "      <td>LPDDR5X</td>\n",
       "      <td>2880x1800</td>\n",
       "      <td>14.0</td>\n",
       "      <td>512.0</td>\n",
       "      <td>1.30</td>\n",
       "      <td>26990000</td>\n",
       "    </tr>\n",
       "    <tr>\n",
       "      <th>1</th>\n",
       "      <td>59</td>\n",
       "      <td>6400</td>\n",
       "      <td>5</td>\n",
       "      <td>8640.0</td>\n",
       "      <td>AMD</td>\n",
       "      <td>4.90</td>\n",
       "      <td>Amd</td>\n",
       "      <td>HP</td>\n",
       "      <td>16</td>\n",
       "      <td>LPDDR5</td>\n",
       "      <td>2880x1800</td>\n",
       "      <td>14.0</td>\n",
       "      <td>512.0</td>\n",
       "      <td>NaN</td>\n",
       "      <td>28990000</td>\n",
       "    </tr>\n",
       "    <tr>\n",
       "      <th>2</th>\n",
       "      <td>70</td>\n",
       "      <td>8533</td>\n",
       "      <td>Ultra7</td>\n",
       "      <td>258.0</td>\n",
       "      <td>Intel</td>\n",
       "      <td>4.80</td>\n",
       "      <td>Intel</td>\n",
       "      <td>Lenovo</td>\n",
       "      <td>32</td>\n",
       "      <td>LPDDR5x</td>\n",
       "      <td>2880x1800</td>\n",
       "      <td>15.3</td>\n",
       "      <td>1024.0</td>\n",
       "      <td>1.53</td>\n",
       "      <td>42990000</td>\n",
       "    </tr>\n",
       "    <tr>\n",
       "      <th>3</th>\n",
       "      <td>59</td>\n",
       "      <td>6400</td>\n",
       "      <td>Ultra7</td>\n",
       "      <td>155.0</td>\n",
       "      <td>Intel</td>\n",
       "      <td>4.80</td>\n",
       "      <td>Intel</td>\n",
       "      <td>HP</td>\n",
       "      <td>32</td>\n",
       "      <td>LPDDR5</td>\n",
       "      <td>2880x1800</td>\n",
       "      <td>14.0</td>\n",
       "      <td>512.0</td>\n",
       "      <td>NaN</td>\n",
       "      <td>35290000</td>\n",
       "    </tr>\n",
       "    <tr>\n",
       "      <th>4</th>\n",
       "      <td>41</td>\n",
       "      <td>3200</td>\n",
       "      <td>7</td>\n",
       "      <td>150.0</td>\n",
       "      <td>Intel</td>\n",
       "      <td>5.40</td>\n",
       "      <td>Intel</td>\n",
       "      <td>HP</td>\n",
       "      <td>16</td>\n",
       "      <td>DDR4</td>\n",
       "      <td>1920x1080</td>\n",
       "      <td>14.0</td>\n",
       "      <td>512.0</td>\n",
       "      <td>1.40</td>\n",
       "      <td>22990000</td>\n",
       "    </tr>\n",
       "  </tbody>\n",
       "</table>\n",
       "</div>"
      ],
      "text/plain": [
       "  Battery (WHrs) Bus (MHz) CPU Brand Modifier  CPU Generation  \\\n",
       "0             75      7467             Ultra5           125.0   \n",
       "1             59      6400                  5          8640.0   \n",
       "2             70      8533             Ultra7           258.0   \n",
       "3             59      6400             Ultra7           155.0   \n",
       "4             41      3200                  7           150.0   \n",
       "\n",
       "  CPU Manufacturer CPU Speed (GHz) GPU Manufacturer Manufacturer  RAM (GB)  \\\n",
       "0            Intel            4.50            Intel         Asus        16   \n",
       "1              AMD            4.90              Amd           HP        16   \n",
       "2            Intel            4.80            Intel       Lenovo        32   \n",
       "3            Intel            4.80            Intel           HP        32   \n",
       "4            Intel            5.40            Intel           HP        16   \n",
       "\n",
       "  RAM Type Screen Resolution  Screen Size (Inches)  Storage (GB)  Weight (kg)  \\\n",
       "0  LPDDR5X         2880x1800                  14.0         512.0         1.30   \n",
       "1   LPDDR5         2880x1800                  14.0         512.0          NaN   \n",
       "2  LPDDR5x         2880x1800                  15.3        1024.0         1.53   \n",
       "3   LPDDR5         2880x1800                  14.0         512.0          NaN   \n",
       "4     DDR4         1920x1080                  14.0         512.0         1.40   \n",
       "\n",
       "      Price  \n",
       "0  26990000  \n",
       "1  28990000  \n",
       "2  42990000  \n",
       "3  35290000  \n",
       "4  22990000  "
      ]
     },
     "execution_count": 101,
     "metadata": {},
     "output_type": "execute_result"
    }
   ],
   "source": [
    "ltworld_data.head()"
   ]
  },
  {
   "cell_type": "code",
   "execution_count": 102,
   "metadata": {},
   "outputs": [],
   "source": [
    "ltworld_data.to_csv('data/cleaned_data.csv', index=False)"
   ]
  },
  {
   "cell_type": "code",
   "execution_count": null,
   "metadata": {},
   "outputs": [],
   "source": []
  }
 ],
 "metadata": {
  "kernelspec": {
   "display_name": "Python 3",
   "language": "python",
   "name": "python3"
  },
  "language_info": {
   "codemirror_mode": {
    "name": "ipython",
    "version": 3
   },
   "file_extension": ".py",
   "mimetype": "text/x-python",
   "name": "python",
   "nbconvert_exporter": "python",
   "pygments_lexer": "ipython3",
   "version": "3.10.4"
  }
 },
 "nbformat": 4,
 "nbformat_minor": 2
}
